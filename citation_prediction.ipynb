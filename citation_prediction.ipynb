{
  "nbformat": 4,
  "nbformat_minor": 0,
  "metadata": {
    "colab": {
      "name": "citation_prediction.ipynb",
      "provenance": [],
      "collapsed_sections": [
        "y_jPEFzB6G0U"
      ],
      "authorship_tag": "ABX9TyNjpOr48yKT4e4n9NrVjMdS",
      "include_colab_link": true
    },
    "kernelspec": {
      "display_name": "Python 3",
      "name": "python3"
    }
  },
  "cells": [
    {
      "cell_type": "markdown",
      "metadata": {
        "id": "view-in-github",
        "colab_type": "text"
      },
      "source": [
        "<a href=\"https://colab.research.google.com/github/magichan-lab/MINGW-packages/blob/master/citation_prediction.ipynb\" target=\"_parent\"><img src=\"https://colab.research.google.com/assets/colab-badge.svg\" alt=\"Open In Colab\"/></a>"
      ]
    },
    {
      "cell_type": "markdown",
      "metadata": {
        "id": "wN1vJIQIFXFd"
      },
      "source": [
        "# 論文の被引用数予測\r\n",
        "\r\n",
        "https://prob.space/competitions/citation_prediction"
      ]
    },
    {
      "cell_type": "markdown",
      "metadata": {
        "id": "qGWpC-4JF0bR"
      },
      "source": [
        "## ■初期設定"
      ]
    },
    {
      "cell_type": "code",
      "metadata": {
        "colab": {
          "base_uri": "https://localhost:8080/"
        },
        "id": "3XmL_iHSDx5J",
        "outputId": "1e167ae5-8a4b-4290-e1e7-ebada19a91db"
      },
      "source": [
        "!pip install optuna"
      ],
      "execution_count": null,
      "outputs": [
        {
          "output_type": "stream",
          "text": [
            "Requirement already satisfied: optuna in /usr/local/lib/python3.6/dist-packages (2.5.0)\n",
            "Requirement already satisfied: cliff in /usr/local/lib/python3.6/dist-packages (from optuna) (3.6.0)\n",
            "Requirement already satisfied: scipy!=1.4.0 in /usr/local/lib/python3.6/dist-packages (from optuna) (1.4.1)\n",
            "Requirement already satisfied: joblib in /usr/local/lib/python3.6/dist-packages (from optuna) (1.0.0)\n",
            "Requirement already satisfied: colorlog in /usr/local/lib/python3.6/dist-packages (from optuna) (4.7.2)\n",
            "Requirement already satisfied: packaging>=20.0 in /usr/local/lib/python3.6/dist-packages (from optuna) (20.9)\n",
            "Requirement already satisfied: alembic in /usr/local/lib/python3.6/dist-packages (from optuna) (1.5.4)\n",
            "Requirement already satisfied: tqdm in /usr/local/lib/python3.6/dist-packages (from optuna) (4.41.1)\n",
            "Requirement already satisfied: cmaes>=0.6.0 in /usr/local/lib/python3.6/dist-packages (from optuna) (0.8.1)\n",
            "Requirement already satisfied: sqlalchemy>=1.1.0 in /usr/local/lib/python3.6/dist-packages (from optuna) (1.3.23)\n",
            "Requirement already satisfied: numpy in /usr/local/lib/python3.6/dist-packages (from optuna) (1.19.5)\n",
            "Requirement already satisfied: cmd2!=0.8.3,>=0.8.0 in /usr/local/lib/python3.6/dist-packages (from cliff->optuna) (1.5.0)\n",
            "Requirement already satisfied: PrettyTable<0.8,>=0.7.2 in /usr/local/lib/python3.6/dist-packages (from cliff->optuna) (0.7.2)\n",
            "Requirement already satisfied: pbr!=2.1.0,>=2.0.0 in /usr/local/lib/python3.6/dist-packages (from cliff->optuna) (5.5.1)\n",
            "Requirement already satisfied: pyparsing>=2.1.0 in /usr/local/lib/python3.6/dist-packages (from cliff->optuna) (2.4.7)\n",
            "Requirement already satisfied: PyYAML>=3.12 in /usr/local/lib/python3.6/dist-packages (from cliff->optuna) (3.13)\n",
            "Requirement already satisfied: stevedore>=2.0.1 in /usr/local/lib/python3.6/dist-packages (from cliff->optuna) (3.3.0)\n",
            "Requirement already satisfied: python-dateutil in /usr/local/lib/python3.6/dist-packages (from alembic->optuna) (2.8.1)\n",
            "Requirement already satisfied: Mako in /usr/local/lib/python3.6/dist-packages (from alembic->optuna) (1.1.4)\n",
            "Requirement already satisfied: python-editor>=0.3 in /usr/local/lib/python3.6/dist-packages (from alembic->optuna) (1.0.4)\n",
            "Requirement already satisfied: pyperclip>=1.6 in /usr/local/lib/python3.6/dist-packages (from cmd2!=0.8.3,>=0.8.0->cliff->optuna) (1.8.1)\n",
            "Requirement already satisfied: colorama>=0.3.7 in /usr/local/lib/python3.6/dist-packages (from cmd2!=0.8.3,>=0.8.0->cliff->optuna) (0.4.4)\n",
            "Requirement already satisfied: attrs>=16.3.0 in /usr/local/lib/python3.6/dist-packages (from cmd2!=0.8.3,>=0.8.0->cliff->optuna) (20.3.0)\n",
            "Requirement already satisfied: importlib-metadata>=1.6.0; python_version < \"3.8\" in /usr/local/lib/python3.6/dist-packages (from cmd2!=0.8.3,>=0.8.0->cliff->optuna) (3.4.0)\n",
            "Requirement already satisfied: wcwidth>=0.1.7 in /usr/local/lib/python3.6/dist-packages (from cmd2!=0.8.3,>=0.8.0->cliff->optuna) (0.2.5)\n",
            "Requirement already satisfied: six>=1.5 in /usr/local/lib/python3.6/dist-packages (from python-dateutil->alembic->optuna) (1.15.0)\n",
            "Requirement already satisfied: MarkupSafe>=0.9.2 in /usr/local/lib/python3.6/dist-packages (from Mako->alembic->optuna) (1.1.1)\n",
            "Requirement already satisfied: typing-extensions>=3.6.4; python_version < \"3.8\" in /usr/local/lib/python3.6/dist-packages (from importlib-metadata>=1.6.0; python_version < \"3.8\"->cmd2!=0.8.3,>=0.8.0->cliff->optuna) (3.7.4.3)\n",
            "Requirement already satisfied: zipp>=0.5 in /usr/local/lib/python3.6/dist-packages (from importlib-metadata>=1.6.0; python_version < \"3.8\"->cmd2!=0.8.3,>=0.8.0->cliff->optuna) (3.4.0)\n"
          ],
          "name": "stdout"
        }
      ]
    },
    {
      "cell_type": "code",
      "metadata": {
        "id": "cX3mtk0-XGrj"
      },
      "source": [
        "from google.colab import files, drive\r\n",
        "import numpy as np\r\n",
        "import pandas as pd\r\n",
        "import matplotlib.pyplot as plt\r\n",
        "import lightgbm as lgb\r\n",
        "import optuna.integration.lightgbm as _lgb\r\n",
        "import nltk\r\n",
        "from sklearn.model_selection import train_test_split\r\n",
        "from sklearn.model_selection import KFold, StratifiedKFold\r\n",
        "from sklearn.metrics import mean_squared_error\r\n",
        "from tqdm import tqdm\r\n",
        "import regex\r\n",
        "import json\r\n",
        "import os"
      ],
      "execution_count": 87,
      "outputs": []
    },
    {
      "cell_type": "code",
      "metadata": {
        "id": "x7U2JUiGpHI0"
      },
      "source": [
        "tqdm.pandas()"
      ],
      "execution_count": null,
      "outputs": []
    },
    {
      "cell_type": "code",
      "metadata": {
        "colab": {
          "base_uri": "https://localhost:8080/"
        },
        "id": "WqyB4h1XVgNv",
        "outputId": "367a493b-d759-4040-9974-db700c69615f"
      },
      "source": [
        "nltk.download('all')"
      ],
      "execution_count": null,
      "outputs": [
        {
          "output_type": "stream",
          "text": [
            "[nltk_data] Downloading collection 'all'\n",
            "[nltk_data]    | \n",
            "[nltk_data]    | Downloading package abc to /root/nltk_data...\n",
            "[nltk_data]    |   Package abc is already up-to-date!\n",
            "[nltk_data]    | Downloading package alpino to /root/nltk_data...\n",
            "[nltk_data]    |   Package alpino is already up-to-date!\n",
            "[nltk_data]    | Downloading package biocreative_ppi to\n",
            "[nltk_data]    |     /root/nltk_data...\n",
            "[nltk_data]    |   Package biocreative_ppi is already up-to-date!\n",
            "[nltk_data]    | Downloading package brown to /root/nltk_data...\n",
            "[nltk_data]    |   Package brown is already up-to-date!\n",
            "[nltk_data]    | Downloading package brown_tei to /root/nltk_data...\n",
            "[nltk_data]    |   Package brown_tei is already up-to-date!\n",
            "[nltk_data]    | Downloading package cess_cat to /root/nltk_data...\n",
            "[nltk_data]    |   Package cess_cat is already up-to-date!\n",
            "[nltk_data]    | Downloading package cess_esp to /root/nltk_data...\n",
            "[nltk_data]    |   Package cess_esp is already up-to-date!\n",
            "[nltk_data]    | Downloading package chat80 to /root/nltk_data...\n",
            "[nltk_data]    |   Package chat80 is already up-to-date!\n",
            "[nltk_data]    | Downloading package city_database to\n",
            "[nltk_data]    |     /root/nltk_data...\n",
            "[nltk_data]    |   Package city_database is already up-to-date!\n",
            "[nltk_data]    | Downloading package cmudict to /root/nltk_data...\n",
            "[nltk_data]    |   Package cmudict is already up-to-date!\n",
            "[nltk_data]    | Downloading package comparative_sentences to\n",
            "[nltk_data]    |     /root/nltk_data...\n",
            "[nltk_data]    |   Package comparative_sentences is already up-to-\n",
            "[nltk_data]    |       date!\n",
            "[nltk_data]    | Downloading package comtrans to /root/nltk_data...\n",
            "[nltk_data]    |   Package comtrans is already up-to-date!\n",
            "[nltk_data]    | Downloading package conll2000 to /root/nltk_data...\n",
            "[nltk_data]    |   Package conll2000 is already up-to-date!\n",
            "[nltk_data]    | Downloading package conll2002 to /root/nltk_data...\n",
            "[nltk_data]    |   Package conll2002 is already up-to-date!\n",
            "[nltk_data]    | Downloading package conll2007 to /root/nltk_data...\n",
            "[nltk_data]    |   Package conll2007 is already up-to-date!\n",
            "[nltk_data]    | Downloading package crubadan to /root/nltk_data...\n",
            "[nltk_data]    |   Package crubadan is already up-to-date!\n",
            "[nltk_data]    | Downloading package dependency_treebank to\n",
            "[nltk_data]    |     /root/nltk_data...\n",
            "[nltk_data]    |   Package dependency_treebank is already up-to-date!\n",
            "[nltk_data]    | Downloading package dolch to /root/nltk_data...\n",
            "[nltk_data]    |   Package dolch is already up-to-date!\n",
            "[nltk_data]    | Downloading package europarl_raw to\n",
            "[nltk_data]    |     /root/nltk_data...\n",
            "[nltk_data]    |   Package europarl_raw is already up-to-date!\n",
            "[nltk_data]    | Downloading package floresta to /root/nltk_data...\n",
            "[nltk_data]    |   Package floresta is already up-to-date!\n",
            "[nltk_data]    | Downloading package framenet_v15 to\n",
            "[nltk_data]    |     /root/nltk_data...\n",
            "[nltk_data]    |   Package framenet_v15 is already up-to-date!\n",
            "[nltk_data]    | Downloading package framenet_v17 to\n",
            "[nltk_data]    |     /root/nltk_data...\n",
            "[nltk_data]    |   Package framenet_v17 is already up-to-date!\n",
            "[nltk_data]    | Downloading package gazetteers to /root/nltk_data...\n",
            "[nltk_data]    |   Package gazetteers is already up-to-date!\n",
            "[nltk_data]    | Downloading package genesis to /root/nltk_data...\n",
            "[nltk_data]    |   Package genesis is already up-to-date!\n",
            "[nltk_data]    | Downloading package gutenberg to /root/nltk_data...\n",
            "[nltk_data]    |   Package gutenberg is already up-to-date!\n",
            "[nltk_data]    | Downloading package ieer to /root/nltk_data...\n",
            "[nltk_data]    |   Package ieer is already up-to-date!\n",
            "[nltk_data]    | Downloading package inaugural to /root/nltk_data...\n",
            "[nltk_data]    |   Package inaugural is already up-to-date!\n",
            "[nltk_data]    | Downloading package indian to /root/nltk_data...\n",
            "[nltk_data]    |   Package indian is already up-to-date!\n",
            "[nltk_data]    | Downloading package jeita to /root/nltk_data...\n",
            "[nltk_data]    |   Package jeita is already up-to-date!\n",
            "[nltk_data]    | Downloading package kimmo to /root/nltk_data...\n",
            "[nltk_data]    |   Package kimmo is already up-to-date!\n",
            "[nltk_data]    | Downloading package knbc to /root/nltk_data...\n",
            "[nltk_data]    |   Package knbc is already up-to-date!\n",
            "[nltk_data]    | Downloading package lin_thesaurus to\n",
            "[nltk_data]    |     /root/nltk_data...\n",
            "[nltk_data]    |   Package lin_thesaurus is already up-to-date!\n",
            "[nltk_data]    | Downloading package mac_morpho to /root/nltk_data...\n",
            "[nltk_data]    |   Package mac_morpho is already up-to-date!\n",
            "[nltk_data]    | Downloading package machado to /root/nltk_data...\n",
            "[nltk_data]    |   Package machado is already up-to-date!\n",
            "[nltk_data]    | Downloading package masc_tagged to /root/nltk_data...\n",
            "[nltk_data]    |   Package masc_tagged is already up-to-date!\n",
            "[nltk_data]    | Downloading package moses_sample to\n",
            "[nltk_data]    |     /root/nltk_data...\n",
            "[nltk_data]    |   Package moses_sample is already up-to-date!\n",
            "[nltk_data]    | Downloading package movie_reviews to\n",
            "[nltk_data]    |     /root/nltk_data...\n",
            "[nltk_data]    |   Package movie_reviews is already up-to-date!\n",
            "[nltk_data]    | Downloading package names to /root/nltk_data...\n",
            "[nltk_data]    |   Package names is already up-to-date!\n",
            "[nltk_data]    | Downloading package nombank.1.0 to /root/nltk_data...\n",
            "[nltk_data]    |   Package nombank.1.0 is already up-to-date!\n",
            "[nltk_data]    | Downloading package nps_chat to /root/nltk_data...\n",
            "[nltk_data]    |   Package nps_chat is already up-to-date!\n",
            "[nltk_data]    | Downloading package omw to /root/nltk_data...\n",
            "[nltk_data]    |   Package omw is already up-to-date!\n",
            "[nltk_data]    | Downloading package opinion_lexicon to\n",
            "[nltk_data]    |     /root/nltk_data...\n",
            "[nltk_data]    |   Package opinion_lexicon is already up-to-date!\n",
            "[nltk_data]    | Downloading package paradigms to /root/nltk_data...\n",
            "[nltk_data]    |   Package paradigms is already up-to-date!\n",
            "[nltk_data]    | Downloading package pil to /root/nltk_data...\n",
            "[nltk_data]    |   Package pil is already up-to-date!\n",
            "[nltk_data]    | Downloading package pl196x to /root/nltk_data...\n",
            "[nltk_data]    |   Package pl196x is already up-to-date!\n",
            "[nltk_data]    | Downloading package ppattach to /root/nltk_data...\n",
            "[nltk_data]    |   Package ppattach is already up-to-date!\n",
            "[nltk_data]    | Downloading package problem_reports to\n",
            "[nltk_data]    |     /root/nltk_data...\n",
            "[nltk_data]    |   Package problem_reports is already up-to-date!\n",
            "[nltk_data]    | Downloading package propbank to /root/nltk_data...\n",
            "[nltk_data]    |   Package propbank is already up-to-date!\n",
            "[nltk_data]    | Downloading package ptb to /root/nltk_data...\n",
            "[nltk_data]    |   Package ptb is already up-to-date!\n",
            "[nltk_data]    | Downloading package product_reviews_1 to\n",
            "[nltk_data]    |     /root/nltk_data...\n",
            "[nltk_data]    |   Package product_reviews_1 is already up-to-date!\n",
            "[nltk_data]    | Downloading package product_reviews_2 to\n",
            "[nltk_data]    |     /root/nltk_data...\n",
            "[nltk_data]    |   Package product_reviews_2 is already up-to-date!\n",
            "[nltk_data]    | Downloading package pros_cons to /root/nltk_data...\n",
            "[nltk_data]    |   Package pros_cons is already up-to-date!\n",
            "[nltk_data]    | Downloading package qc to /root/nltk_data...\n",
            "[nltk_data]    |   Package qc is already up-to-date!\n",
            "[nltk_data]    | Downloading package reuters to /root/nltk_data...\n",
            "[nltk_data]    |   Package reuters is already up-to-date!\n",
            "[nltk_data]    | Downloading package rte to /root/nltk_data...\n",
            "[nltk_data]    |   Package rte is already up-to-date!\n",
            "[nltk_data]    | Downloading package semcor to /root/nltk_data...\n",
            "[nltk_data]    |   Package semcor is already up-to-date!\n",
            "[nltk_data]    | Downloading package senseval to /root/nltk_data...\n",
            "[nltk_data]    |   Package senseval is already up-to-date!\n",
            "[nltk_data]    | Downloading package sentiwordnet to\n",
            "[nltk_data]    |     /root/nltk_data...\n",
            "[nltk_data]    |   Package sentiwordnet is already up-to-date!\n",
            "[nltk_data]    | Downloading package sentence_polarity to\n",
            "[nltk_data]    |     /root/nltk_data...\n",
            "[nltk_data]    |   Package sentence_polarity is already up-to-date!\n",
            "[nltk_data]    | Downloading package shakespeare to /root/nltk_data...\n",
            "[nltk_data]    |   Package shakespeare is already up-to-date!\n",
            "[nltk_data]    | Downloading package sinica_treebank to\n",
            "[nltk_data]    |     /root/nltk_data...\n",
            "[nltk_data]    |   Package sinica_treebank is already up-to-date!\n",
            "[nltk_data]    | Downloading package smultron to /root/nltk_data...\n",
            "[nltk_data]    |   Package smultron is already up-to-date!\n",
            "[nltk_data]    | Downloading package state_union to /root/nltk_data...\n",
            "[nltk_data]    |   Package state_union is already up-to-date!\n",
            "[nltk_data]    | Downloading package stopwords to /root/nltk_data...\n",
            "[nltk_data]    |   Package stopwords is already up-to-date!\n",
            "[nltk_data]    | Downloading package subjectivity to\n",
            "[nltk_data]    |     /root/nltk_data...\n",
            "[nltk_data]    |   Package subjectivity is already up-to-date!\n",
            "[nltk_data]    | Downloading package swadesh to /root/nltk_data...\n",
            "[nltk_data]    |   Package swadesh is already up-to-date!\n",
            "[nltk_data]    | Downloading package switchboard to /root/nltk_data...\n",
            "[nltk_data]    |   Package switchboard is already up-to-date!\n",
            "[nltk_data]    | Downloading package timit to /root/nltk_data...\n",
            "[nltk_data]    |   Package timit is already up-to-date!\n",
            "[nltk_data]    | Downloading package toolbox to /root/nltk_data...\n",
            "[nltk_data]    |   Package toolbox is already up-to-date!\n",
            "[nltk_data]    | Downloading package treebank to /root/nltk_data...\n",
            "[nltk_data]    |   Package treebank is already up-to-date!\n",
            "[nltk_data]    | Downloading package twitter_samples to\n",
            "[nltk_data]    |     /root/nltk_data...\n",
            "[nltk_data]    |   Package twitter_samples is already up-to-date!\n",
            "[nltk_data]    | Downloading package udhr to /root/nltk_data...\n",
            "[nltk_data]    |   Package udhr is already up-to-date!\n",
            "[nltk_data]    | Downloading package udhr2 to /root/nltk_data...\n",
            "[nltk_data]    |   Package udhr2 is already up-to-date!\n",
            "[nltk_data]    | Downloading package unicode_samples to\n",
            "[nltk_data]    |     /root/nltk_data...\n",
            "[nltk_data]    |   Package unicode_samples is already up-to-date!\n",
            "[nltk_data]    | Downloading package universal_treebanks_v20 to\n",
            "[nltk_data]    |     /root/nltk_data...\n",
            "[nltk_data]    |   Package universal_treebanks_v20 is already up-to-\n",
            "[nltk_data]    |       date!\n",
            "[nltk_data]    | Downloading package verbnet to /root/nltk_data...\n",
            "[nltk_data]    |   Package verbnet is already up-to-date!\n",
            "[nltk_data]    | Downloading package verbnet3 to /root/nltk_data...\n",
            "[nltk_data]    |   Package verbnet3 is already up-to-date!\n",
            "[nltk_data]    | Downloading package webtext to /root/nltk_data...\n",
            "[nltk_data]    |   Package webtext is already up-to-date!\n",
            "[nltk_data]    | Downloading package wordnet to /root/nltk_data...\n",
            "[nltk_data]    |   Package wordnet is already up-to-date!\n",
            "[nltk_data]    | Downloading package wordnet_ic to /root/nltk_data...\n",
            "[nltk_data]    |   Package wordnet_ic is already up-to-date!\n",
            "[nltk_data]    | Downloading package words to /root/nltk_data...\n",
            "[nltk_data]    |   Package words is already up-to-date!\n",
            "[nltk_data]    | Downloading package ycoe to /root/nltk_data...\n",
            "[nltk_data]    |   Package ycoe is already up-to-date!\n",
            "[nltk_data]    | Downloading package rslp to /root/nltk_data...\n",
            "[nltk_data]    |   Package rslp is already up-to-date!\n",
            "[nltk_data]    | Downloading package maxent_treebank_pos_tagger to\n",
            "[nltk_data]    |     /root/nltk_data...\n",
            "[nltk_data]    |   Package maxent_treebank_pos_tagger is already up-\n",
            "[nltk_data]    |       to-date!\n",
            "[nltk_data]    | Downloading package universal_tagset to\n",
            "[nltk_data]    |     /root/nltk_data...\n",
            "[nltk_data]    |   Package universal_tagset is already up-to-date!\n",
            "[nltk_data]    | Downloading package maxent_ne_chunker to\n",
            "[nltk_data]    |     /root/nltk_data...\n",
            "[nltk_data]    |   Package maxent_ne_chunker is already up-to-date!\n",
            "[nltk_data]    | Downloading package punkt to /root/nltk_data...\n",
            "[nltk_data]    |   Package punkt is already up-to-date!\n",
            "[nltk_data]    | Downloading package book_grammars to\n",
            "[nltk_data]    |     /root/nltk_data...\n",
            "[nltk_data]    |   Package book_grammars is already up-to-date!\n",
            "[nltk_data]    | Downloading package sample_grammars to\n",
            "[nltk_data]    |     /root/nltk_data...\n",
            "[nltk_data]    |   Package sample_grammars is already up-to-date!\n",
            "[nltk_data]    | Downloading package spanish_grammars to\n",
            "[nltk_data]    |     /root/nltk_data...\n",
            "[nltk_data]    |   Package spanish_grammars is already up-to-date!\n",
            "[nltk_data]    | Downloading package basque_grammars to\n",
            "[nltk_data]    |     /root/nltk_data...\n",
            "[nltk_data]    |   Package basque_grammars is already up-to-date!\n",
            "[nltk_data]    | Downloading package large_grammars to\n",
            "[nltk_data]    |     /root/nltk_data...\n",
            "[nltk_data]    |   Package large_grammars is already up-to-date!\n",
            "[nltk_data]    | Downloading package tagsets to /root/nltk_data...\n",
            "[nltk_data]    |   Package tagsets is already up-to-date!\n",
            "[nltk_data]    | Downloading package snowball_data to\n",
            "[nltk_data]    |     /root/nltk_data...\n",
            "[nltk_data]    |   Package snowball_data is already up-to-date!\n",
            "[nltk_data]    | Downloading package bllip_wsj_no_aux to\n",
            "[nltk_data]    |     /root/nltk_data...\n",
            "[nltk_data]    |   Package bllip_wsj_no_aux is already up-to-date!\n",
            "[nltk_data]    | Downloading package word2vec_sample to\n",
            "[nltk_data]    |     /root/nltk_data...\n",
            "[nltk_data]    |   Package word2vec_sample is already up-to-date!\n",
            "[nltk_data]    | Downloading package panlex_swadesh to\n",
            "[nltk_data]    |     /root/nltk_data...\n",
            "[nltk_data]    |   Package panlex_swadesh is already up-to-date!\n",
            "[nltk_data]    | Downloading package mte_teip5 to /root/nltk_data...\n",
            "[nltk_data]    |   Package mte_teip5 is already up-to-date!\n",
            "[nltk_data]    | Downloading package averaged_perceptron_tagger to\n",
            "[nltk_data]    |     /root/nltk_data...\n",
            "[nltk_data]    |   Package averaged_perceptron_tagger is already up-\n",
            "[nltk_data]    |       to-date!\n",
            "[nltk_data]    | Downloading package averaged_perceptron_tagger_ru to\n",
            "[nltk_data]    |     /root/nltk_data...\n",
            "[nltk_data]    |   Package averaged_perceptron_tagger_ru is already\n",
            "[nltk_data]    |       up-to-date!\n",
            "[nltk_data]    | Downloading package perluniprops to\n",
            "[nltk_data]    |     /root/nltk_data...\n",
            "[nltk_data]    |   Package perluniprops is already up-to-date!\n",
            "[nltk_data]    | Downloading package nonbreaking_prefixes to\n",
            "[nltk_data]    |     /root/nltk_data...\n",
            "[nltk_data]    |   Package nonbreaking_prefixes is already up-to-date!\n",
            "[nltk_data]    | Downloading package vader_lexicon to\n",
            "[nltk_data]    |     /root/nltk_data...\n",
            "[nltk_data]    |   Package vader_lexicon is already up-to-date!\n",
            "[nltk_data]    | Downloading package porter_test to /root/nltk_data...\n",
            "[nltk_data]    |   Package porter_test is already up-to-date!\n",
            "[nltk_data]    | Downloading package wmt15_eval to /root/nltk_data...\n",
            "[nltk_data]    |   Package wmt15_eval is already up-to-date!\n",
            "[nltk_data]    | Downloading package mwa_ppdb to /root/nltk_data...\n",
            "[nltk_data]    |   Package mwa_ppdb is already up-to-date!\n",
            "[nltk_data]    | \n",
            "[nltk_data]  Done downloading collection all\n"
          ],
          "name": "stdout"
        },
        {
          "output_type": "execute_result",
          "data": {
            "text/plain": [
              "True"
            ]
          },
          "metadata": {
            "tags": []
          },
          "execution_count": 4
        }
      ]
    },
    {
      "cell_type": "code",
      "metadata": {
        "id": "vFzhXqlfAcok"
      },
      "source": [
        "# 設定\r\n",
        "NUM_FOLDS = 4\r\n",
        "SEED = 1000\r\n",
        "METRICS = 'rmse'\r\n",
        "TEST_SIZE = 0.25\r\n",
        "OUTPUT_FILE = 'submit8.csv'"
      ],
      "execution_count": null,
      "outputs": []
    },
    {
      "cell_type": "code",
      "metadata": {
        "colab": {
          "base_uri": "https://localhost:8080/"
        },
        "id": "pnxTJX-4WQdT",
        "outputId": "2fe1e833-a832-470b-84f0-6f7b9118fcbd"
      },
      "source": [
        "drive.mount('/gdrive')"
      ],
      "execution_count": null,
      "outputs": [
        {
          "output_type": "stream",
          "text": [
            "Drive already mounted at /gdrive; to attempt to forcibly remount, call drive.mount(\"/gdrive\", force_remount=True).\n"
          ],
          "name": "stdout"
        }
      ]
    },
    {
      "cell_type": "markdown",
      "metadata": {
        "id": "Avusy9RG3N9U"
      },
      "source": [
        "## ■データ読み込み"
      ]
    },
    {
      "cell_type": "code",
      "metadata": {
        "id": "5-1QpPyhezWs"
      },
      "source": [
        "DATA_PATH = '/gdrive/MyDrive/ProbSpace/citation_prediction/'"
      ],
      "execution_count": null,
      "outputs": []
    },
    {
      "cell_type": "code",
      "metadata": {
        "colab": {
          "base_uri": "https://localhost:8080/",
          "height": 682
        },
        "id": "H0KNB68u55rW",
        "outputId": "9f2e95c3-019d-45f8-b3ea-8ebc30f651d3"
      },
      "source": [
        "train_file = os.path.join(DATA_PATH, 'train_data.json')\r\n",
        "test_file = os.path.join(DATA_PATH, 'test_data.json')\r\n",
        "\r\n",
        "num_of_lines = sum(1 for _ in open(train_file, 'r'))\r\n",
        "with open(train_file, 'r') as f:\r\n",
        "    tmp = []\r\n",
        "    for line in tqdm(f, total=num_of_lines):\r\n",
        "        tmp.append(json.loads(line))\r\n",
        "    train_df = pd.DataFrame(tmp).set_index('id', drop=True)\r\n",
        "\r\n",
        "num_of_lines = sum(1 for _ in open(test_file, 'r'))\r\n",
        "with open(test_file, 'r') as f:\r\n",
        "    tmp = []\r\n",
        "    for line in tqdm(f, total=num_of_lines):\r\n",
        "        tmp.append(json.loads(line))\r\n",
        "    test_df = pd.DataFrame(tmp).set_index('id', drop=True)\r\n",
        "\r\n",
        "# 以下の方がシンプルで早いかも・・。でもプログレスバー出た方が良いので上を使う\r\n",
        "# train_df = pd.read_json(train_file, lines=True).set_index('id', drop=True)\r\n",
        "# test_df = pd.read_json(test_file, lines=True).set_index('id', drop=True)\r\n",
        "\r\n",
        "all_df = pd.concat([train_df.assign(train=True), test_df.assign(cites=0, train=False)])\r\n",
        "\r\n",
        "all_df.head()"
      ],
      "execution_count": null,
      "outputs": [
        {
          "output_type": "stream",
          "text": [
            "100%|██████████| 851524/851524 [00:32<00:00, 26128.97it/s]\n",
            "100%|██████████| 59084/59084 [00:03<00:00, 18277.57it/s]\n"
          ],
          "name": "stderr"
        },
        {
          "output_type": "execute_result",
          "data": {
            "text/html": [
              "<div>\n",
              "<style scoped>\n",
              "    .dataframe tbody tr th:only-of-type {\n",
              "        vertical-align: middle;\n",
              "    }\n",
              "\n",
              "    .dataframe tbody tr th {\n",
              "        vertical-align: top;\n",
              "    }\n",
              "\n",
              "    .dataframe thead th {\n",
              "        text-align: right;\n",
              "    }\n",
              "</style>\n",
              "<table border=\"1\" class=\"dataframe\">\n",
              "  <thead>\n",
              "    <tr style=\"text-align: right;\">\n",
              "      <th></th>\n",
              "      <th>submitter</th>\n",
              "      <th>authors</th>\n",
              "      <th>title</th>\n",
              "      <th>comments</th>\n",
              "      <th>journal-ref</th>\n",
              "      <th>doi</th>\n",
              "      <th>report-no</th>\n",
              "      <th>categories</th>\n",
              "      <th>license</th>\n",
              "      <th>abstract</th>\n",
              "      <th>versions</th>\n",
              "      <th>update_date</th>\n",
              "      <th>authors_parsed</th>\n",
              "      <th>doi_cites</th>\n",
              "      <th>cites</th>\n",
              "      <th>train</th>\n",
              "    </tr>\n",
              "    <tr>\n",
              "      <th>id</th>\n",
              "      <th></th>\n",
              "      <th></th>\n",
              "      <th></th>\n",
              "      <th></th>\n",
              "      <th></th>\n",
              "      <th></th>\n",
              "      <th></th>\n",
              "      <th></th>\n",
              "      <th></th>\n",
              "      <th></th>\n",
              "      <th></th>\n",
              "      <th></th>\n",
              "      <th></th>\n",
              "      <th></th>\n",
              "      <th></th>\n",
              "      <th></th>\n",
              "    </tr>\n",
              "  </thead>\n",
              "  <tbody>\n",
              "    <tr>\n",
              "      <th>hep-ph/9902295</th>\n",
              "      <td>Michael Kraemer</td>\n",
              "      <td>Mark E. Hayes (University College London) and ...</td>\n",
              "      <td>Heavy-Flavour Production at HERA</td>\n",
              "      <td>LaTeX, 21 pages, 13 Postscript figures. Summar...</td>\n",
              "      <td>J.Phys.G25:1477-1493,1999</td>\n",
              "      <td>10.1088/0954-3899/25/7/332</td>\n",
              "      <td>CERN-TH/99-30, UCL/HEP 99-03</td>\n",
              "      <td>hep-ph hep-ex</td>\n",
              "      <td>None</td>\n",
              "      <td>We review the theoretical and experimental s...</td>\n",
              "      <td>[{'version': 'v1', 'created': 'Wed, 10 Feb 199...</td>\n",
              "      <td>2008-11-26</td>\n",
              "      <td>[[Hayes, Mark E., , University College London]...</td>\n",
              "      <td>1</td>\n",
              "      <td>NaN</td>\n",
              "      <td>True</td>\n",
              "    </tr>\n",
              "    <tr>\n",
              "      <th>1403.7138</th>\n",
              "      <td>Aigen Li</td>\n",
              "      <td>Qi Li, S.L. Liang, Aigen Li (University of Mis...</td>\n",
              "      <td>Spectropolarimetric Constraints on the Nature ...</td>\n",
              "      <td>5 pages, 2 figures; accepted for publication i...</td>\n",
              "      <td>None</td>\n",
              "      <td>10.1093/mnrasl/slu021</td>\n",
              "      <td>None</td>\n",
              "      <td>astro-ph.GA</td>\n",
              "      <td>http://arxiv.org/licenses/nonexclusive-distrib...</td>\n",
              "      <td>While it is well recognized that interstella...</td>\n",
              "      <td>[{'version': 'v1', 'created': 'Thu, 27 Mar 201...</td>\n",
              "      <td>2015-06-19</td>\n",
              "      <td>[[Li, Qi, , University of Missouri], [Liang, S...</td>\n",
              "      <td>8</td>\n",
              "      <td>7.0</td>\n",
              "      <td>True</td>\n",
              "    </tr>\n",
              "    <tr>\n",
              "      <th>1405.5857</th>\n",
              "      <td>Michael Mortonson</td>\n",
              "      <td>Michael J. Mortonson, Uro\\v{s} Seljak</td>\n",
              "      <td>A joint analysis of Planck and BICEP2 B modes ...</td>\n",
              "      <td>13 pages, 4 figures; submitted to JCAP; refere...</td>\n",
              "      <td>JCAP10(2014)035</td>\n",
              "      <td>10.1088/1475-7516/2014/10/035</td>\n",
              "      <td>None</td>\n",
              "      <td>astro-ph.CO gr-qc hep-ph hep-th</td>\n",
              "      <td>http://arxiv.org/licenses/nonexclusive-distrib...</td>\n",
              "      <td>We analyze BICEP2 and Planck data using a mo...</td>\n",
              "      <td>[{'version': 'v1', 'created': 'Thu, 22 May 201...</td>\n",
              "      <td>2014-10-17</td>\n",
              "      <td>[[Mortonson, Michael J., ], [Seljak, Uroš, ]]</td>\n",
              "      <td>122</td>\n",
              "      <td>188.0</td>\n",
              "      <td>True</td>\n",
              "    </tr>\n",
              "    <tr>\n",
              "      <th>1807.01034</th>\n",
              "      <td>Evangelos Thomas Karamatskos</td>\n",
              "      <td>Evangelos T. Karamatskos, Sebastian Raabe, Ter...</td>\n",
              "      <td>Molecular movie of ultrafast coherent rotation...</td>\n",
              "      <td>9 Figures</td>\n",
              "      <td>Nat Commun 10, 3364 (2019)</td>\n",
              "      <td>10.1038/s41467-019-11122-y</td>\n",
              "      <td>None</td>\n",
              "      <td>physics.chem-ph physics.atom-ph quant-ph</td>\n",
              "      <td>http://arxiv.org/licenses/nonexclusive-distrib...</td>\n",
              "      <td>Recording molecular movies on ultrafast time...</td>\n",
              "      <td>[{'version': 'v1', 'created': 'Tue, 3 Jul 2018...</td>\n",
              "      <td>2020-05-19</td>\n",
              "      <td>[[Karamatskos, Evangelos T., ], [Raabe, Sebast...</td>\n",
              "      <td>6</td>\n",
              "      <td>8.0</td>\n",
              "      <td>True</td>\n",
              "    </tr>\n",
              "    <tr>\n",
              "      <th>1905.05921</th>\n",
              "      <td>Juanjuan Gu</td>\n",
              "      <td>Juanjuan Gu and Yun Jing</td>\n",
              "      <td>A Modified Mixed Domain Method for Modeling Ac...</td>\n",
              "      <td>None</td>\n",
              "      <td>None</td>\n",
              "      <td>10.1121/10.0001454</td>\n",
              "      <td>None</td>\n",
              "      <td>physics.med-ph physics.comp-ph</td>\n",
              "      <td>http://arxiv.org/licenses/nonexclusive-distrib...</td>\n",
              "      <td>In this paper, phase correction and amplitud...</td>\n",
              "      <td>[{'version': 'v1', 'created': 'Wed, 15 May 201...</td>\n",
              "      <td>2020-07-15</td>\n",
              "      <td>[[Gu, Juanjuan, ], [Jing, Yun, ]]</td>\n",
              "      <td>0</td>\n",
              "      <td>NaN</td>\n",
              "      <td>True</td>\n",
              "    </tr>\n",
              "  </tbody>\n",
              "</table>\n",
              "</div>"
            ],
            "text/plain": [
              "                                   submitter  ... train\n",
              "id                                            ...      \n",
              "hep-ph/9902295               Michael Kraemer  ...  True\n",
              "1403.7138                           Aigen Li  ...  True\n",
              "1405.5857                  Michael Mortonson  ...  True\n",
              "1807.01034      Evangelos Thomas Karamatskos  ...  True\n",
              "1905.05921                       Juanjuan Gu  ...  True\n",
              "\n",
              "[5 rows x 16 columns]"
            ]
          },
          "metadata": {
            "tags": []
          },
          "execution_count": 8
        }
      ]
    },
    {
      "cell_type": "code",
      "metadata": {
        "colab": {
          "base_uri": "https://localhost:8080/"
        },
        "id": "-v_l5S0n5b-Q",
        "outputId": "83877219-2680-479f-bec2-b8a4f1545847"
      },
      "source": [
        "all_df = all_df.astype({\r\n",
        "    'doi_cites': 'int',\r\n",
        "    'cites': 'float',\r\n",
        "    })\r\n",
        "all_df.dtypes"
      ],
      "execution_count": null,
      "outputs": [
        {
          "output_type": "execute_result",
          "data": {
            "text/plain": [
              "submitter          object\n",
              "authors            object\n",
              "title              object\n",
              "comments           object\n",
              "journal-ref        object\n",
              "doi                object\n",
              "report-no          object\n",
              "categories         object\n",
              "license            object\n",
              "abstract           object\n",
              "versions           object\n",
              "update_date        object\n",
              "authors_parsed     object\n",
              "doi_cites           int64\n",
              "cites             float64\n",
              "train                bool\n",
              "dtype: object"
            ]
          },
          "metadata": {
            "tags": []
          },
          "execution_count": 9
        }
      ]
    },
    {
      "cell_type": "markdown",
      "metadata": {
        "id": "i0PGHuaaGs-1"
      },
      "source": [
        "## ■目的変数"
      ]
    },
    {
      "cell_type": "code",
      "metadata": {
        "colab": {
          "base_uri": "https://localhost:8080/"
        },
        "id": "_-iI3KcDGkoe",
        "outputId": "46e4540f-c0ff-4605-ae49-e714b1a7752b"
      },
      "source": [
        "all_df[all_df.train].cites.describe()"
      ],
      "execution_count": null,
      "outputs": [
        {
          "output_type": "execute_result",
          "data": {
            "text/plain": [
              "count    15117.000000\n",
              "mean        30.427664\n",
              "std        122.773141\n",
              "min          1.000000\n",
              "25%          4.000000\n",
              "50%         11.000000\n",
              "75%         28.000000\n",
              "max       8723.000000\n",
              "Name: cites, dtype: float64"
            ]
          },
          "metadata": {
            "tags": []
          },
          "execution_count": 10
        }
      ]
    },
    {
      "cell_type": "code",
      "metadata": {
        "colab": {
          "base_uri": "https://localhost:8080/",
          "height": 283
        },
        "id": "MJWByV41GwZe",
        "outputId": "458db988-2924-4407-95a2-035821b6327d"
      },
      "source": [
        "all_df[all_df.train].cites.hist(bins=30)"
      ],
      "execution_count": null,
      "outputs": [
        {
          "output_type": "execute_result",
          "data": {
            "text/plain": [
              "<matplotlib.axes._subplots.AxesSubplot at 0x7f3ee79c2cc0>"
            ]
          },
          "metadata": {
            "tags": []
          },
          "execution_count": 11
        },
        {
          "output_type": "display_data",
          "data": {
            "image/png": "[encoded data removed]",
            "text/plain": [
              "<Figure size 432x288 with 1 Axes>"
            ]
          },
          "metadata": {
            "tags": []
          }
        }
      ]
    },
    {
      "cell_type": "code",
      "metadata": {
        "id": "V2QX9zyrziHp"
      },
      "source": [
        "all_df['log_cites'] = all_df['cites'].apply(np.log1p)"
      ],
      "execution_count": null,
      "outputs": []
    },
    {
      "cell_type": "code",
      "metadata": {
        "colab": {
          "base_uri": "https://localhost:8080/",
          "height": 283
        },
        "id": "YgBh3vxTHcpU",
        "outputId": "4d3fb51f-957c-4714-f5fc-8c009f870f31"
      },
      "source": [
        "all_df[all_df.train].log_cites.hist(bins=30)"
      ],
      "execution_count": null,
      "outputs": [
        {
          "output_type": "execute_result",
          "data": {
            "text/plain": [
              "<matplotlib.axes._subplots.AxesSubplot at 0x7f3ee78dbda0>"
            ]
          },
          "metadata": {
            "tags": []
          },
          "execution_count": 13
        },
        {
          "output_type": "display_data",
          "data": {
            "image/png": "[encoded data removed]",
            "text/plain": [
              "<Figure size 432x288 with 1 Axes>"
            ]
          },
          "metadata": {
            "tags": []
          }
        }
      ]
    },
    {
      "cell_type": "markdown",
      "metadata": {
        "id": "SfqvpmtVHOPr"
      },
      "source": [
        "## ■説明変数"
      ]
    },
    {
      "cell_type": "markdown",
      "metadata": {
        "id": "y_jPEFzB6G0U"
      },
      "source": [
        "### submitter\r\n",
        "\r\n",
        "- submitter_count\r\n",
        "- submitter_eptcs"
      ]
    },
    {
      "cell_type": "code",
      "metadata": {
        "id": "hdUC15Ns6NFO"
      },
      "source": [
        "# Submitした回数を追加\r\n",
        "all_df['submitter_eptcs'] = (all_df['submitter'] == 'EPTCS')\r\n",
        "tmp = all_df['submitter'].value_counts()\r\n",
        "tmp['EPTCS'] = 0\r\n",
        "all_df['submitter_count'] = all_df['submitter'].map(tmp)\r\n",
        "all_df['submitter_count'] = all_df['submitter_count'].fillna(0).astype(int)"
      ],
      "execution_count": null,
      "outputs": []
    },
    {
      "cell_type": "code",
      "metadata": {
        "colab": {
          "base_uri": "https://localhost:8080/",
          "height": 283
        },
        "id": "p46XQnrV9IJj",
        "outputId": "0bec4e59-c2cf-45dc-8b6e-89d65d11cfd3"
      },
      "source": [
        "all_df['submitter_count'].plot.hist(bins=50)"
      ],
      "execution_count": null,
      "outputs": [
        {
          "output_type": "execute_result",
          "data": {
            "text/plain": [
              "<matplotlib.axes._subplots.AxesSubplot at 0x7f3ee77814e0>"
            ]
          },
          "metadata": {
            "tags": []
          },
          "execution_count": 15
        },
        {
          "output_type": "display_data",
          "data": {
            "image/png": "[encoded data removed]",
            "text/plain": [
              "<Figure size 432x288 with 1 Axes>"
            ]
          },
          "metadata": {
            "tags": []
          }
        }
      ]
    },
    {
      "cell_type": "markdown",
      "metadata": {
        "id": "lm6TZpWoIwcH"
      },
      "source": [
        "###authors\r\n",
        "\r\n",
        "- 未使用(authors_parsed の方を使用する)"
      ]
    },
    {
      "cell_type": "markdown",
      "metadata": {
        "id": "VxKdcIshI5Ze"
      },
      "source": [
        "###title\r\n",
        "\r\n",
        "- 未使用"
      ]
    },
    {
      "cell_type": "code",
      "metadata": {
        "id": "vRPAGT7tJQmm"
      },
      "source": [
        "words = []\r\n",
        "def f(title):\r\n",
        "    morph = nltk.word_tokenize(title)\r\n",
        "    words.extend(w.lower() for w,v in nltk.pos_tag(morph) if v in ['NN', 'NNS', 'NNP'])\r\n",
        "#all_df['title'].progress_apply(f)\r\n",
        "#print(words)"
      ],
      "execution_count": null,
      "outputs": []
    },
    {
      "cell_type": "code",
      "metadata": {
        "colab": {
          "base_uri": "https://localhost:8080/"
        },
        "id": "-pZXgulwXnXF",
        "outputId": "4ab806ee-acb4-4144-ade5-c035a0857b40"
      },
      "source": [
        "pd.Series(words).value_counts()"
      ],
      "execution_count": null,
      "outputs": [
        {
          "output_type": "stream",
          "text": [
            "/usr/local/lib/python3.6/dist-packages/ipykernel_launcher.py:1: DeprecationWarning: The default dtype for empty Series will be 'object' instead of 'float64' in a future version. Specify a dtype explicitly to silence this warning.\n",
            "  \"\"\"Entry point for launching an IPython kernel.\n"
          ],
          "name": "stderr"
        },
        {
          "output_type": "execute_result",
          "data": {
            "text/plain": [
              "Series([], dtype: int64)"
            ]
          },
          "metadata": {
            "tags": []
          },
          "execution_count": 17
        }
      ]
    },
    {
      "cell_type": "markdown",
      "metadata": {
        "id": "rV5kxvCzI-P2"
      },
      "source": [
        "###comments\r\n",
        "\r\n",
        "- 未使用"
      ]
    },
    {
      "cell_type": "markdown",
      "metadata": {
        "id": "gTMXxZvJXfnU"
      },
      "source": [
        "###journal-ref\r\n",
        "\r\n",
        "https://www.oecd-nea.org/dbdata/dictionaries/journal.html\r\n",
        "\r\n",
        "http://www.math.nagoya-u.ac.jp/~hamanaka/ronbun.html\r\n"
      ]
    },
    {
      "cell_type": "code",
      "metadata": {
        "id": "Iaqr2_Lw5ZYl"
      },
      "source": [
        "# Published in some Journal\r\n",
        "all_df['in_journal'] = True\r\n",
        "all_df.loc[all_df['journal-ref'].isna(), 'in_journal'] = False"
      ],
      "execution_count": null,
      "outputs": []
    },
    {
      "cell_type": "code",
      "metadata": {
        "id": "oXz2KgqeJ39m"
      },
      "source": [
        "# とりあえず括弧を削除\r\n",
        "#def f(journal):\r\n",
        "#    result = None\r\n",
        "#    if journal is not None:\r\n",
        "#        ptn = regex.compile(r'\\(((?>[^\\(\\)]+|(?R))*)\\)')\r\n",
        "#        result = regex.sub(ptn, '', journal)\r\n",
        "#    return result\r\n",
        "\r\n",
        "#all_df['journal-ref'] = all_df['journal-ref'].progress_apply(f)"
      ],
      "execution_count": null,
      "outputs": []
    },
    {
      "cell_type": "code",
      "metadata": {
        "colab": {
          "base_uri": "https://localhost:8080/"
        },
        "id": "uXwWlZbwOOkS",
        "outputId": "e6301b01-de99-409f-fe62-f03f0c2d0454"
      },
      "source": [
        "all_df['journal-ref']"
      ],
      "execution_count": null,
      "outputs": [
        {
          "output_type": "execute_result",
          "data": {
            "text/plain": [
              "id\n",
              "hep-ph/9902295               J.Phys.G25:1477-1493,1999\n",
              "1403.7138                                         None\n",
              "1405.5857                              JCAP10(2014)035\n",
              "1807.01034                  Nat Commun 10, 3364 (2019)\n",
              "1905.05921                                        None\n",
              "                                   ...                \n",
              "1210.4112            Phys. Lett. B. 718 (2013) 902-907\n",
              "1701.03465                                        None\n",
              "1709.10428                                        None\n",
              "gr-qc/9803020       Class.Quant.Grav.15:1637-1651,1998\n",
              "cond-mat/0512492        Phys. Rev. E 73, 046104 (2006)\n",
              "Name: journal-ref, Length: 910608, dtype: object"
            ]
          },
          "metadata": {
            "tags": []
          },
          "execution_count": 20
        }
      ]
    },
    {
      "cell_type": "code",
      "metadata": {
        "colab": {
          "base_uri": "https://localhost:8080/",
          "height": 143
        },
        "id": "CthEXQQHE1bF",
        "outputId": "8dbf3d1b-8f0b-40bd-fd60-be8c9990346b"
      },
      "source": [
        "\"\"\"\r\n",
        "print(x.count())\r\n",
        "x = x[~x.str.startswith('J.Phys.J')] #\r\n",
        "OK x = x[~x.str.startswith('Eur.Phys.J')] #11463\r\n",
        "x = x[~x.str.startswith('Class.Quant')] #7017\r\n",
        "x = x[~x.str.startswith('NatCommun')] #63\r\n",
        "OK x = x[~x.str.startswith('Astrophys')] #27272\r\n",
        "x = x[~x.str.startswith('J.Quant.Spectros')] #230\r\n",
        "x = x[~x.str.startswith('StudiaMath')] #81\r\n",
        "OK x = x[~x.str.startswith('Phys.Lett')] #23620\r\n",
        "OK x = x[~x.str.startswith('Phys.Rev')] #189195\r\n",
        "OK x = x[~x.str.startswith('PhysicalReview')] #10077\r\n",
        "x = x[~x.str.startswith('Invent.Math')] #145\r\n",
        "OK x = x[~x.str.startswith('J.Phys')] #19871\r\n",
        "x = x[~ x.str.startswith('Gen.Rel.Grav')] #1490\r\n",
        "x = x[~x.str.startswith('Chaos')] # 813\r\n",
        "x = x[~x.str.startswith('AIPConf.Proc')] #3533\r\n",
        "x = x[~x.str.startswith('JCAP')] #4860\r\n",
        "#x = x[~x.str.startswith('JHEP')] #17765\r\n",
        "x = x[~x.str.startswith('Int.J.')] #9160\r\n",
        "x = x[~x.str.startswith('InternationalJournal')] #3615\r\n",
        "x = x[~x.str.startswith('APJ')] #16\r\n",
        "x = x[~x.str.startswith('Phys.Plasmas')] #393\r\n",
        "x = x[~x.str.startswith('Mod.Phys.Lett')] #4577\r\n",
        "x = x[~x.str.startswith('Lect.NotesPhys')] # 222\r\n",
        "x = x[~x.str.contains('A&A')] #9234\r\n",
        "x = x[~x.str.contains('ApJ')] #3803\r\n",
        "x = x[~x.str.contains('MNRAS')] #3081\r\n",
        "x = x[~x.str.contains('AJ')] # 458\r\n",
        "x = x[x.str.contains('NewJ.Phys')] # 458\r\n",
        "\"\"\"\r\n"
      ],
      "execution_count": null,
      "outputs": [
        {
          "output_type": "execute_result",
          "data": {
            "application/vnd.google.colaboratory.intrinsic+json": {
              "type": "string"
            },
            "text/plain": [
              "\"\\nprint(x.count())\\nx = x[~x.str.startswith('J.Phys.J')] #\\nOK x = x[~x.str.startswith('Eur.Phys.J')] #11463\\nx = x[~x.str.startswith('Class.Quant')] #7017\\nOK x = x[~x.str.startswith('Phys.Rev')] #189195\\nx = x[~x.str.startswith('NatCommun')] #63\\nOK x = x[~x.str.startswith('Astrophys')] #27272\\nx = x[~x.str.startswith('J.Quant.Spectros')] #230\\nx = x[~x.str.startswith('StudiaMath')] #81\\nOK x = x[~x.str.startswith('Phys.Lett')] #23620\\nOK x = x[~x.str.startswith('PhysicalReview')] #10077\\nx = x[~x.str.startswith('Invent.Math')] #145\\nx = x[~x.str.startswith('J.Phys')] #19871\\nx = x[~ x.str.startswith('Gen.Rel.Grav')] #1490\\nx = x[~x.str.startswith('Chaos')] # 813\\nx = x[~x.str.startswith('AIPConf.Proc')] #3533\\nx = x[~x.str.startswith('JCAP')] #4860\\nx = x[~x.str.startswith('JHEP')] #17765\\nx = x[~x.str.startswith('Int.J.')] #9160\\nx = x[~x.str.startswith('InternationalJournal')] #3615\\nx = x[~x.str.startswith('APJ')] #16\\nx = x[~x.str.startswith('Phys.Plasmas')] #393\\nx = x[~x.str.startswith('Mod.Phys.Lett')] #4577\\nx = x[~x.str.startswith('Lect.NotesPhys')] # 222\\nx = x[~x.str.contains('A&A')] #9234\\nx = x[~x.str.contains('ApJ')] #3803\\nx = x[~x.str.contains('MNRAS')] #3081\\nx = x[~x.str.contains('AJ')] # 458\\nx = x[x.str.contains('NewJ.Phys')] # 458\\n\""
            ]
          },
          "metadata": {
            "tags": []
          },
          "execution_count": 22
        }
      ]
    },
    {
      "cell_type": "code",
      "metadata": {
        "id": "SH3g0fmFTCfN"
      },
      "source": [
        "### The European Physical Journal(EPJ)\r\n",
        "tmp = all_df['journal-ref'].dropna()# .str.replace(' ', '')\r\n",
        "\r\n",
        "epj = tmp.str.upper().str.contains('EPJ[\\s\\d/,\\.]', regex=True) | \\\r\n",
        "      tmp.str.upper().str.contains('EPJ-?A[\\s\\d/,\\.]', regex=True) | \\\r\n",
        "      tmp.str.upper().str.contains('EPJ-?B[\\s\\d/,\\.]', regex=True) | \\\r\n",
        "      tmp.str.upper().str.contains('EPJ-?C[\\s\\d/,\\.]', regex=True) | \\\r\n",
        "      tmp.str.upper().str.contains('EPJ-?D[\\s\\d/,\\.]', regex=True) | \\\r\n",
        "      tmp.str.upper().str.contains('EPJ-?ST[\\s\\d/,\\.]', regex=True) | \\\r\n",
        "      tmp.str.upper().str.contains('EPJ-?SPECIAL[\\s\\d/,\\.]', regex=True) | \\\r\n",
        "      tmp.str.upper().str.contains('EPJ-?N[\\s\\d/,\\.]', regex=True) | \\\r\n",
        "      tmp.str.upper().str.contains('EUR[\\.\\s]*PHYS[\\.\\s]*J', regex=True) | \\\r\n",
        "      tmp.str.upper().str.contains('EUROP[\\.\\s]*PHYS[\\.\\s]*J', regex=True) | \\\r\n",
        "      tmp.str.upper().str.contains('EUROPEAN[\\.\\s]*PHYSICAL[\\.\\s]*J', regex=True) \r\n",
        "\r\n",
        "all_df['journal_epj'] = epj\r\n",
        "all_df['journal_epj'] = all_df['journal_epj'].fillna(False)\r\n",
        "print(epj.sum())\r\n"
      ],
      "execution_count": null,
      "outputs": []
    },
    {
      "cell_type": "code",
      "metadata": {
        "colab": {
          "base_uri": "https://localhost:8080/"
        },
        "id": "4CfXNLveUosO",
        "outputId": "2d2c41bc-b751-44b1-8d0c-8054bf769865"
      },
      "source": [
        "### Journal of the Physical Society of Japans(JPJ)\r\n",
        "tmp = all_df['journal-ref'].dropna().str.replace(' ', '').str.upper()\r\n",
        "\r\n",
        "jpj = tmp.str.contains('JOURNAL\\s*OF\\s*THE\\s*PHYSICAL\\s*SOCIETY\\s*OF\\s*JAPAN', regex=True)\r\n",
        "\r\n",
        "all_df['journal_jpj'] = jpj\r\n",
        "all_df['journal_jpj'] = all_df['journal_jpj'].fillna(False)\r\n",
        "print(jpj.sum())"
      ],
      "execution_count": null,
      "outputs": [
        {
          "output_type": "stream",
          "text": [
            "163\n"
          ],
          "name": "stdout"
        }
      ]
    },
    {
      "cell_type": "code",
      "metadata": {
        "colab": {
          "base_uri": "https://localhost:8080/"
        },
        "id": "2nnJogc3e0hy",
        "outputId": "4d78af95-1128-44cf-c8ac-272273db7ffa"
      },
      "source": [
        "### Physical Reviews(PR)\r\n",
        "tmp = all_df['journal-ref'].dropna().str.replace(' ', '').str.upper()\r\n",
        "\r\n",
        "pr = tmp.str.contains('PHYS[\\.\\s]*REV[\\.\\s]') | \\\r\n",
        "     tmp.str.contains('PHYSICAL[\\.\\s]*REVIEW[\\.\\,\\s/\\d]') | \\\r\n",
        "     tmp.str.contains('PR/A[\\.\\s]') | \\\r\n",
        "     tmp.str.contains('PR/B[\\.\\s]') | \\\r\n",
        "     tmp.str.contains('PR/C[\\.\\s]') | \\\r\n",
        "     tmp.str.contains('PR/D[\\.\\s]') \r\n",
        "\r\n",
        "all_df['journal_pr'] = pr\r\n",
        "all_df['journal_pr'] = all_df['journal_pr'].fillna(False)\r\n",
        "print(pr.sum())"
      ],
      "execution_count": null,
      "outputs": [
        {
          "output_type": "stream",
          "text": [
            "188977\n"
          ],
          "name": "stdout"
        }
      ]
    },
    {
      "cell_type": "code",
      "metadata": {
        "colab": {
          "base_uri": "https://localhost:8080/"
        },
        "id": "KEuHAuRrhEPJ",
        "outputId": "8690ca12-8b48-4544-cde5-3ddc3505fbdb"
      },
      "source": [
        "### Applied Physics Letters(APL)\r\n",
        "tmp = all_df['journal-ref'].dropna().str.replace(' ', '').str.upper()\r\n",
        "\r\n",
        "apl = tmp.str.contains('PHYS[\\.\\s]*LETT[\\.\\s]') | \\\r\n",
        "      tmp.str.contains('PHYSICS[\\.\\s]*LETTERS[\\.\\,\\s/\\d]')\r\n",
        "\r\n",
        "all_df['journal_apl'] = apl    \r\n",
        "all_df['journal_apl'] = all_df['journal_apl'].fillna(False)\r\n",
        "print(apl.sum())"
      ],
      "execution_count": null,
      "outputs": [
        {
          "output_type": "stream",
          "text": [
            "35768\n"
          ],
          "name": "stdout"
        }
      ]
    },
    {
      "cell_type": "code",
      "metadata": {
        "colab": {
          "base_uri": "https://localhost:8080/"
        },
        "id": "qqXegLk5mMG2",
        "outputId": "fa01b54c-3847-45b3-cc7d-1704d35e4f6a"
      },
      "source": [
        "### Astrophysical Journals(AJ)\r\n",
        "tmp = all_df['journal-ref'].dropna().str.replace(' ', '').str.upper()\r\n",
        "\r\n",
        "aj = tmp.str.contains('ASTROPHYS[\\.\\s]') | \\\r\n",
        "     tmp.str.contains('ASTROPHYSICAL[\\.\\s]*JOURNALS?[\\.\\,\\s\\d]')\r\n",
        "\r\n",
        "all_df['journal_aj'] = aj\r\n",
        "all_df['journal_aj'] = all_df['journal_aj'].fillna(False)\r\n",
        "\r\n",
        "print(aj.sum())\r\n",
        "#print(tmp[~aj & tmp.str.contains('ASTROPHYSICAL')])"
      ],
      "execution_count": null,
      "outputs": [
        {
          "output_type": "stream",
          "text": [
            "25165\n"
          ],
          "name": "stdout"
        }
      ]
    },
    {
      "cell_type": "code",
      "metadata": {
        "colab": {
          "base_uri": "https://localhost:8080/"
        },
        "id": "82wc6jX61jVL",
        "outputId": "6c813a59-3b1d-463c-de08-d4dbf8f3e998"
      },
      "source": [
        "### Journal of Physical Chemistrysby Am. Chem. Society(PCJ)\r\n",
        "tmp = all_df['journal-ref'].dropna().str.replace(' ', '').str.upper()\r\n",
        "\r\n",
        "pcj = tmp.str.contains('J[\\.\\s]*PHYS[\\.\\,\\s\\d]') | \\\r\n",
        "      tmp.str.contains('JOURNAL[\\.\\s]*OF[\\.\\s]*PHYSICS') | \\\r\n",
        "      tmp.str.contains('JOURNAL[\\.\\s]*OF[\\.\\s]*PHYSICAL')\r\n",
        "\r\n",
        "all_df['journal_pcj'] = pcj\r\n",
        "all_df['journal_pcj'] = all_df['journal_pcj'].fillna(False)\r\n",
        "\r\n",
        "print(pcj.sum())\r\n",
        "#tmp[~epj & ~jpj & ~pr & ~apl & ~aj & ~pcj & tmp.str.contains(\"JOURNAL\") & tmp.str.contains(\"PHY\")]\r\n"
      ],
      "execution_count": null,
      "outputs": [
        {
          "output_type": "stream",
          "text": [
            "29604\n"
          ],
          "name": "stdout"
        }
      ]
    },
    {
      "cell_type": "code",
      "metadata": {
        "colab": {
          "background_save": true,
          "base_uri": "https://localhost:8080/"
        },
        "id": "8GCI2v3b4j_I",
        "outputId": "bc626bf4-796e-4ab8-ecf0-f39c0f1ca835"
      },
      "source": [
        "### The Journal of High Energy Physics (JHEP) \r\n",
        "tmp = all_df['journal-ref'].dropna().str.replace(' ', '').str.upper()\r\n",
        "\r\n",
        "jhep = tmp.str.startswith('JHEP')\r\n",
        "\r\n",
        "all_df['journal_jhep'] = jhep\r\n",
        "all_df['journal_j'] = all_df['journal_pcj'].fillna(False)\r\n",
        "\r\n",
        "print(jhep.sum())"
      ],
      "execution_count": null,
      "outputs": [
        {
          "output_type": "stream",
          "text": [
            "17765\n"
          ],
          "name": "stdout"
        }
      ]
    },
    {
      "cell_type": "code",
      "metadata": {
        "colab": {
          "base_uri": "https://localhost:8080/"
        },
        "id": "ODU6Tl-honek",
        "outputId": "558499d2-78a2-4018-acba-bace00b8db53"
      },
      "source": [
        "tmp = all_df['journal-ref'].dropna().str.replace(' ', '').str.upper()\r\n",
        "tmp[~epj & ~jpj & ~pr & ~apl & ~aj & tmp.str.contains(\"J.PHYS\")]"
      ],
      "execution_count": null,
      "outputs": [
        {
          "output_type": "execute_result",
          "data": {
            "text/plain": [
              "id\n",
              "hep-ph/9902295                  J.PHYS.G25:1477-1493,1999\n",
              "1109.1968                 AM.J.PHYS.80(2),2012,PP.164-169\n",
              "0709.2480          J.PHYS.:CONDENS.MATTER,20,075227(2008)\n",
              "1804.00265          J.PHYS.:CONDENS.MATTER30,385602(2018)\n",
              "1503.00499                      EUR.J.PHYS.36(2015)035022\n",
              "                                    ...                  \n",
              "1312.4235          J.PHYS.CHEM.B117(48),14928-14939(2013)\n",
              "1802.01431                 J.PHYS.COND.MAT.3010LT01(2018)\n",
              "hep-ph/0602003            J.PHYS.CONF.SER.39(2006)435-437\n",
              "nucl-th/0311022                 J.PHYS.G29:2569-2596,2003\n",
              "1207.5671                CENT.EUR.J.PHYS.10(3)2012540-551\n",
              "Name: journal-ref, Length: 25989, dtype: object"
            ]
          },
          "metadata": {
            "tags": []
          },
          "execution_count": 66
        }
      ]
    },
    {
      "cell_type": "markdown",
      "metadata": {
        "id": "LOEofVUmJZM2"
      },
      "source": [
        "###doi\r\n",
        "\r\n",
        "- 未使用"
      ]
    },
    {
      "cell_type": "markdown",
      "metadata": {
        "id": "_r3giunxJbAN"
      },
      "source": [
        "###report-no\r\n",
        "\r\n",
        "- 未使用"
      ]
    },
    {
      "cell_type": "markdown",
      "metadata": {
        "id": "joqndHR7JtG2"
      },
      "source": [
        "###categories\r\n",
        "\r\n",
        "- TOP50 をOneHot化"
      ]
    },
    {
      "cell_type": "code",
      "metadata": {
        "colab": {
          "base_uri": "https://localhost:8080/"
        },
        "id": "Q-4xwjtrZGBP",
        "outputId": "a104bbc6-eb86-4153-b7cb-16661d4acd4b"
      },
      "source": [
        "N = 50\r\n",
        "\r\n",
        "# all_df['categories'].nunique()\r\n",
        "# all_df['categories'].unique()\r\n",
        "categories = all_df['categories'].str.split(expand=True).stack()\r\n",
        "# categories.nunique() # 176\r\n",
        "categories.unique()"
      ],
      "execution_count": null,
      "outputs": [
        {
          "output_type": "execute_result",
          "data": {
            "text/plain": [
              "array(['hep-ph', 'hep-ex', 'astro-ph.GA', 'astro-ph.CO', 'gr-qc',\n",
              "       'hep-th', 'physics.chem-ph', 'physics.atom-ph', 'quant-ph',\n",
              "       'physics.med-ph', 'physics.comp-ph', 'math.ST', 'stat.ME',\n",
              "       'stat.TH', 'astro-ph', 'physics.optics', 'physics.ao-ph',\n",
              "       'astro-ph.SR', 'cs.LG', 'cond-mat.stat-mech', 'cond-mat.dis-nn',\n",
              "       'cond-mat.mes-hall', 'nlin.PS', 'cond-mat.supr-con',\n",
              "       'physics.gen-ph', 'cs.SE', 'cond-mat.mtrl-sci', 'cs.CV',\n",
              "       'physics.plasm-ph', 'astro-ph.HE', 'physics.space-ph',\n",
              "       'cond-mat.other', 'astro-ph.EP', 'nucl-th', 'nlin.CD',\n",
              "       'physics.data-an', 'nucl-ex', 'comp-gas', 'nlin.CG', 'math.AG',\n",
              "       'math.CV', 'math.GT', 'cond-mat.str-el', 'cs.FL', 'cs.CC',\n",
              "       'physics.app-ph', 'physics.class-ph', 'eess.SP', 'stat.AP',\n",
              "       'math.PR', 'hep-lat', 'cond-mat.quant-gas', 'math.OC', 'stat.ML',\n",
              "       'cond-mat.soft', 'physics.flu-dyn', 'math.RT', 'math.NT',\n",
              "       'math.FA', 'math-ph', 'math.MP', 'cs.SI', 'cs.DL',\n",
              "       'physics.soc-ph', 'q-bio.CB', 'math.CO', 'physics.geo-ph',\n",
              "       'math.AT', 'cs.CG', 'math.MG', 'cs.SD', 'eess.AS', 'cs.IT',\n",
              "       'math.IT', 'math.AP', 'cs.AI', 'eess.IV', 'physics.ins-det',\n",
              "       'astro-ph.IM', 'cs.NE', 'math.NA', 'cs.NA', 'physics.acc-ph',\n",
              "       'cs.DS', 'math.SP', 'nlin.SI', 'math.CA', 'math.QA', 'cs.HC',\n",
              "       'cs.DB', 'cs.LO', 'cs.PL', 'solv-int', 'math.DG', 'physics.bio-ph',\n",
              "       'q-bio.BM', 'chao-dyn', 'math.DS', 'math.SG', 'cond-mat', 'cs.CR',\n",
              "       'q-bio.QM', 'physics.ed-ph', 'patt-sol', 'cs.CL', 'math.AC',\n",
              "       'math.LO', 'q-bio.MN', 'cs.IR', 'cs.CY', 'math.GN', 'adap-org',\n",
              "       'nlin.AO', 'q-fin.TR', 'physics.atm-clus', 'stat.CO', 'cs.GT',\n",
              "       'q-bio.OT', 'cs.NI', 'q-bio.NC', 'math.RA', 'cs.OS', 'cs.SY',\n",
              "       'stat.OT', 'physics.hist-ph', 'q-bio', 'math.GR', 'cs.ET', 'cs.DC',\n",
              "       'cs.MM', 'q-bio.GN', 'q-bio.TO', 'math.KT', 'math.OA', 'q-fin.PR',\n",
              "       'q-fin.MF', 'cs.DM', 'alg-geom', 'cs.RO', 'q-bio.SC', 'supr-con',\n",
              "       'math.CT', 'q-bio.PE', 'cs.CE', 'physics.pop-ph', 'atom-ph',\n",
              "       'cs.AR', 'cs.MA', 'q-fin.RM', 'cs.SC', 'math.HO', 'q-fin.ST',\n",
              "       'q-fin.GN', 'cs.GR', 'econ.EM', 'cs.MS', 'econ.GN', 'econ.TH',\n",
              "       'q-fin.EC', 'eess.SY', 'cs.PF', 'q-fin.CP', 'math.GM', 'q-alg',\n",
              "       'funct-an', 'dg-ga', 'q-fin.PM', 'chem-ph', 'cs.OH', 'mtrl-th',\n",
              "       'cs.GL', 'acc-phys', 'plasm-ph', 'ao-sci', 'cmp-lg', 'bayes-an'],\n",
              "      dtype=object)"
            ]
          },
          "metadata": {
            "tags": []
          },
          "execution_count": 29
        }
      ]
    },
    {
      "cell_type": "code",
      "metadata": {
        "colab": {
          "base_uri": "https://localhost:8080/",
          "height": 375
        },
        "id": "zsRB0wxdbfva",
        "outputId": "d1177834-b228-408a-8ae6-0967b365d5c2"
      },
      "source": [
        "fig, ax = plt.subplots(1, 1, figsize=(10, 4))\r\n",
        "categories.value_counts()[:N].plot.bar(ax=ax)"
      ],
      "execution_count": null,
      "outputs": [
        {
          "output_type": "execute_result",
          "data": {
            "text/plain": [
              "<matplotlib.axes._subplots.AxesSubplot at 0x7f3edea3b240>"
            ]
          },
          "metadata": {
            "tags": []
          },
          "execution_count": 30
        },
        {
          "output_type": "display_data",
          "data": {
            "image/png": "[encoded data removed]",
            "text/plain": [
              "<Figure size 720x288 with 1 Axes>"
            ]
          },
          "metadata": {
            "tags": []
          }
        }
      ]
    },
    {
      "cell_type": "code",
      "metadata": {
        "colab": {
          "base_uri": "https://localhost:8080/"
        },
        "id": "-onIKTwLbmlY",
        "outputId": "53c76f2d-863b-4bb9-fcb6-bb5f486ff8ff"
      },
      "source": [
        "for idx in tqdm(categories.value_counts()[:N].index):\r\n",
        "    all_df[f'cat_{idx}'] = (all_df['categories'].str.split(expand=True) == idx).any(axis=1)"
      ],
      "execution_count": null,
      "outputs": [
        {
          "output_type": "stream",
          "text": [
            "100%|██████████| 50/50 [04:20<00:00,  5.21s/it]\n"
          ],
          "name": "stderr"
        }
      ]
    },
    {
      "cell_type": "code",
      "metadata": {
        "id": "kNRWuQ3VjY8p"
      },
      "source": [
        "all_df['num_of_categories'] = all_df['categories'].str.split().apply(len)"
      ],
      "execution_count": null,
      "outputs": []
    },
    {
      "cell_type": "markdown",
      "metadata": {
        "id": "OxvZHhf1mxod"
      },
      "source": [
        "###license\r\n",
        "\r\n",
        "- カテゴリ変数化"
      ]
    },
    {
      "cell_type": "code",
      "metadata": {
        "id": "u02pzVvKnioP"
      },
      "source": [
        "all_df['license'] = all_df.license.map({\r\n",
        "    'http://arxiv.org/licenses/nonexclusive-distrib/1.0/' : 'non-exclusive',\r\n",
        "    'http://creativecommons.org/licenses/by/4.0/' : 'cc_by',\r\n",
        "    'http://creativecommons.org/licenses/by-sa/4.0/' : 'cc_by-sa',\r\n",
        "    'http://creativecommons.org/licenses/by-nd/4.0/' : 'cc_by-nd',\r\n",
        "    'http://creativecommons.org/licenses/by-nc/4.0/' : 'cc_by-nc',\r\n",
        "    'http://creativecommons.org/licenses/by-nc-sa/4.0/' : 'cc_by-nc-sa',\r\n",
        "    'http://creativecommons.org/licenses/by-nc-nd/4.0/' : 'cc_by-nc-nd',\r\n",
        "    'http://creativecommons.org/publicdomain/zero/1.0/' : 'cc0',\r\n",
        "    #'http://creativecommons.org/licenses/by/3.0/' : 'cc_by3.0',\r\n",
        "    'http://creativecommons.org/licenses/by/3.0/' : 'cc_by',\r\n",
        "    #'http://creativecommons.org/licenses/by-nc-sa/3.0/' : 'cc_by-nc-sa3.0',\r\n",
        "    'http://creativecommons.org/licenses/by-nc-sa/3.0/' : 'cc_by-nc-sa',\r\n",
        "    'http://creativecommons.org/licenses/publicdomain/' : 'cc_public-domain'\r\n",
        "}).astype('category')"
      ],
      "execution_count": null,
      "outputs": []
    },
    {
      "cell_type": "code",
      "metadata": {
        "colab": {
          "base_uri": "https://localhost:8080/",
          "height": 360
        },
        "id": "1yRT3Lzdn5N4",
        "outputId": "c88d2771-52c2-41f9-d5de-43640fd8347d"
      },
      "source": [
        "all_df['license'].value_counts().plot.bar()"
      ],
      "execution_count": null,
      "outputs": [
        {
          "output_type": "execute_result",
          "data": {
            "text/plain": [
              "<matplotlib.axes._subplots.AxesSubplot at 0x7f3edd96af60>"
            ]
          },
          "metadata": {
            "tags": []
          },
          "execution_count": 34
        },
        {
          "output_type": "display_data",
          "data": {
            "image/png": "[encoded data removed]",
            "text/plain": [
              "<Figure size 432x288 with 1 Axes>"
            ]
          },
          "metadata": {
            "tags": []
          }
        }
      ]
    },
    {
      "cell_type": "markdown",
      "metadata": {
        "id": "c6pPjdSPJ2Kl"
      },
      "source": [
        "###abstract"
      ]
    },
    {
      "cell_type": "code",
      "metadata": {
        "colab": {
          "base_uri": "https://localhost:8080/"
        },
        "id": "GkHLAFHXt9N-",
        "outputId": "e7c1f826-a1b0-405d-e032-55cb28d65bfe"
      },
      "source": [
        "all_df['abstract']"
      ],
      "execution_count": null,
      "outputs": [
        {
          "output_type": "execute_result",
          "data": {
            "text/plain": [
              "id\n",
              "hep-ph/9902295        We review the theoretical and experimental s...\n",
              "1403.7138             While it is well recognized that interstella...\n",
              "1405.5857             We analyze BICEP2 and Planck data using a mo...\n",
              "1807.01034            Recording molecular movies on ultrafast time...\n",
              "1905.05921            In this paper, phase correction and amplitud...\n",
              "                                          ...                        \n",
              "1210.4112             The asymmetry in the production cross-sectio...\n",
              "1701.03465            Ultra-faint dwarf galaxies (UFDs) are the fa...\n",
              "1709.10428            We consider a class of one-dimensional quant...\n",
              "gr-qc/9803020         We test the chronology protection conjecture...\n",
              "cond-mat/0512492      We present the analysis of the first passage...\n",
              "Name: abstract, Length: 910608, dtype: object"
            ]
          },
          "metadata": {
            "tags": []
          },
          "execution_count": 35
        }
      ]
    },
    {
      "cell_type": "markdown",
      "metadata": {
        "id": "Dp9ASXJH6xHU"
      },
      "source": [
        "###versions"
      ]
    },
    {
      "cell_type": "code",
      "metadata": {
        "colab": {
          "base_uri": "https://localhost:8080/"
        },
        "id": "aNoAp2DHl_g4",
        "outputId": "fd8d41c5-09b7-4532-9164-24d1b6762ca5"
      },
      "source": [
        "all_df['num_of_versions'] = all_df['versions'].progress_apply(lambda d: len(d))\r\n",
        "all_df['first_edition_publication_date'] = all_df['versions'].progress_apply(lambda d: pd.to_datetime(d[0][\"created\"]))\r\n",
        "all_df['first_edition_publication_year'] = all_df['first_edition_publication_date'].dt.year\r\n",
        "all_df['last_edition_publication_date'] = all_df['versions'].progress_apply(lambda d: pd.to_datetime(d[-1][\"created\"]))\r\n",
        "all_df['last_edition_publication_year'] = all_df['last_edition_publication_date'].dt.year\r\n",
        "all_df['renewal_period'] = (all_df['last_edition_publication_date'] - all_df['first_edition_publication_date']).dt.days"
      ],
      "execution_count": null,
      "outputs": [
        {
          "output_type": "stream",
          "text": [
            "100%|██████████| 910608/910608 [00:01<00:00, 737674.83it/s]\n",
            "100%|██████████| 910608/910608 [05:32<00:00, 2740.35it/s]\n",
            "100%|██████████| 910608/910608 [05:24<00:00, 2802.37it/s]\n"
          ],
          "name": "stderr"
        }
      ]
    },
    {
      "cell_type": "markdown",
      "metadata": {
        "id": "_g8vwuvZKexs"
      },
      "source": [
        "###update_date"
      ]
    },
    {
      "cell_type": "code",
      "metadata": {
        "colab": {
          "base_uri": "https://localhost:8080/"
        },
        "id": "a535bIztu9Og",
        "outputId": "9581e66b-ccd6-4c45-ff91-9cf7359f25a6"
      },
      "source": [
        "all_df['update_date'] = pd.to_datetime(all_df['update_date'])\r\n",
        "all_df['update_date']"
      ],
      "execution_count": null,
      "outputs": [
        {
          "output_type": "execute_result",
          "data": {
            "text/plain": [
              "id\n",
              "hep-ph/9902295     2008-11-26\n",
              "1403.7138          2015-06-19\n",
              "1405.5857          2014-10-17\n",
              "1807.01034         2020-05-19\n",
              "1905.05921         2020-07-15\n",
              "                      ...    \n",
              "1210.4112          2012-12-20\n",
              "1701.03465         2017-02-08\n",
              "1709.10428         2018-02-14\n",
              "gr-qc/9803020      2011-07-19\n",
              "cond-mat/0512492   2020-03-16\n",
              "Name: update_date, Length: 910608, dtype: datetime64[ns]"
            ]
          },
          "metadata": {
            "tags": []
          },
          "execution_count": 37
        }
      ]
    },
    {
      "cell_type": "markdown",
      "metadata": {
        "id": "PPJS1gmDKEUc"
      },
      "source": [
        "###authors_parsed"
      ]
    },
    {
      "cell_type": "code",
      "metadata": {
        "colab": {
          "base_uri": "https://localhost:8080/"
        },
        "id": "IgH5dm6gvN_l",
        "outputId": "0f2c6d24-0b0e-45a9-84f2-887e5979537a"
      },
      "source": [
        "N = 50\r\n",
        "def conv_auth(auths):\r\n",
        "    tmp = []\r\n",
        "    for auth in auths:\r\n",
        "        if len(auth) < 2 or auth[2] == '':\r\n",
        "            tmp.append(' '.join(auth[:2]))\r\n",
        "        else:\r\n",
        "            tmp.append(' '.join(auth[:3]))\r\n",
        "    return tmp\r\n",
        "\r\n",
        "all_df['authors_parsed'] = all_df.loc[:, 'authors_parsed'].progress_apply(conv_auth)"
      ],
      "execution_count": null,
      "outputs": [
        {
          "output_type": "stream",
          "text": [
            "100%|██████████| 910608/910608 [00:03<00:00, 229803.80it/s]\n"
          ],
          "name": "stderr"
        }
      ]
    },
    {
      "cell_type": "code",
      "metadata": {
        "colab": {
          "base_uri": "https://localhost:8080/"
        },
        "id": "qODeAi0EV9S5",
        "outputId": "be91d479-843d-4aca-9ac6-247796bd8eb2"
      },
      "source": [
        "tmp = []\r\n",
        "for auths in tqdm(all_df['authors_parsed']):\r\n",
        "    tmp.extend(auths)\r\n",
        "authors = pd.Series(tmp)"
      ],
      "execution_count": null,
      "outputs": [
        {
          "output_type": "stream",
          "text": [
            "100%|██████████| 910608/910608 [00:00<00:00, 1322382.78it/s]\n"
          ],
          "name": "stderr"
        }
      ]
    },
    {
      "cell_type": "code",
      "metadata": {
        "colab": {
          "base_uri": "https://localhost:8080/",
          "height": 377
        },
        "id": "fKJg74yF6ccH",
        "outputId": "b4867315-8bbc-4a7a-a89c-9f6e72cbe6f2"
      },
      "source": [
        "fig, ax = plt.subplots(1, 1, figsize=(10, 4))\r\n",
        "authors.value_counts()[:N].plot.bar(ax=ax)"
      ],
      "execution_count": null,
      "outputs": [
        {
          "output_type": "execute_result",
          "data": {
            "text/plain": [
              "<matplotlib.axes._subplots.AxesSubplot at 0x7f3ed3f209e8>"
            ]
          },
          "metadata": {
            "tags": []
          },
          "execution_count": 40
        },
        {
          "output_type": "display_data",
          "data": {
            "image/png": "[encoded data removed]",
            "text/plain": [
              "<Figure size 720x288 with 1 Axes>"
            ]
          },
          "metadata": {
            "tags": []
          }
        }
      ]
    },
    {
      "cell_type": "code",
      "metadata": {
        "colab": {
          "base_uri": "https://localhost:8080/"
        },
        "id": "1CsIveL81sbC",
        "outputId": "16acb775-5110-4eff-d4b7-5a68c947307f"
      },
      "source": [
        "for idx in tqdm(authors.value_counts()[:N].index):\r\n",
        "    all_df[f'auth_{idx}'] = all_df['authors_parsed'].apply(lambda d: idx in d)\r\n",
        "print(all_df)"
      ],
      "execution_count": null,
      "outputs": [
        {
          "output_type": "stream",
          "text": [
            "100%|██████████| 50/50 [00:20<00:00,  2.46it/s]\n"
          ],
          "name": "stderr"
        },
        {
          "output_type": "stream",
          "text": [
            "                                     submitter  ... auth_Bocci V.\n",
            "id                                              ...              \n",
            "hep-ph/9902295                 Michael Kraemer  ...         False\n",
            "1403.7138                             Aigen Li  ...         False\n",
            "1405.5857                    Michael Mortonson  ...         False\n",
            "1807.01034        Evangelos Thomas Karamatskos  ...         False\n",
            "1905.05921                         Juanjuan Gu  ...         False\n",
            "...                                        ...  ...           ...\n",
            "1210.4112                        Hamish Gordon  ...          True\n",
            "1701.03465                       In Sung  Jang  ...         False\n",
            "1709.10428                       Vincent Beaud  ...         False\n",
            "gr-qc/9803020                      Kengo Maeda  ...         False\n",
            "cond-mat/0512492             Bartlomiej Dybiec  ...         False\n",
            "\n",
            "[910608 rows x 132 columns]\n"
          ],
          "name": "stdout"
        }
      ]
    },
    {
      "cell_type": "code",
      "metadata": {
        "id": "b26T-qNwvgHV"
      },
      "source": [
        "all_df['num_of_authors'] = all_df['authors_parsed'].apply(len)"
      ],
      "execution_count": null,
      "outputs": []
    },
    {
      "cell_type": "code",
      "metadata": {
        "colab": {
          "base_uri": "https://localhost:8080/",
          "height": 283
        },
        "id": "Zk_EyYFgvqUW",
        "outputId": "fc61b0c7-534a-4478-ed88-d86c2e2cceae"
      },
      "source": [
        "all_df['num_of_authors'].plot.hist(bins=50)"
      ],
      "execution_count": null,
      "outputs": [
        {
          "output_type": "execute_result",
          "data": {
            "text/plain": [
              "<matplotlib.axes._subplots.AxesSubplot at 0x7f3ed4142630>"
            ]
          },
          "metadata": {
            "tags": []
          },
          "execution_count": 43
        },
        {
          "output_type": "display_data",
          "data": {
            "image/png": "[encoded data removed]",
            "text/plain": [
              "<Figure size 432x288 with 1 Axes>"
            ]
          },
          "metadata": {
            "tags": []
          }
        }
      ]
    },
    {
      "cell_type": "markdown",
      "metadata": {
        "id": "snsdDiU_3D21"
      },
      "source": [
        "### doi_cites"
      ]
    },
    {
      "cell_type": "code",
      "metadata": {
        "colab": {
          "base_uri": "https://localhost:8080/",
          "height": 297
        },
        "id": "p7kL1XDsG-n0",
        "outputId": "ddf8fa12-560a-4479-9e39-462ed5bdafd6"
      },
      "source": [
        "all_df['doi_cites']\r\n",
        "fig, axs = plt.subplots(1, 2, figsize=(15,4))\r\n",
        "all_df['doi_cites'].plot(ax=axs[0])\r\n",
        "all_df.doi_cites.plot.hist(bins=20, ax=axs[1])"
      ],
      "execution_count": null,
      "outputs": [
        {
          "output_type": "execute_result",
          "data": {
            "text/plain": [
              "<matplotlib.axes._subplots.AxesSubplot at 0x7f3ed4376438>"
            ]
          },
          "metadata": {
            "tags": []
          },
          "execution_count": 44
        },
        {
          "output_type": "display_data",
          "data": {
            "image/png": "[encoded data removed]",
            "text/plain": [
              "<Figure size 1080x288 with 2 Axes>"
            ]
          },
          "metadata": {
            "tags": []
          }
        }
      ]
    },
    {
      "cell_type": "code",
      "metadata": {
        "id": "driH9lVF6jwW"
      },
      "source": [
        "all_df['log_doi_cites'] = all_df['doi_cites'].apply(np.log1p)"
      ],
      "execution_count": null,
      "outputs": []
    },
    {
      "cell_type": "code",
      "metadata": {
        "colab": {
          "base_uri": "https://localhost:8080/",
          "height": 283
        },
        "id": "HA0Z4tVj67Fd",
        "outputId": "9f7db5f8-11cf-49ae-88af-d11661fadf7e"
      },
      "source": [
        "all_df.log_doi_cites.hist(bins=20)"
      ],
      "execution_count": null,
      "outputs": [
        {
          "output_type": "execute_result",
          "data": {
            "text/plain": [
              "<matplotlib.axes._subplots.AxesSubplot at 0x7f3ed42c2f60>"
            ]
          },
          "metadata": {
            "tags": []
          },
          "execution_count": 46
        },
        {
          "output_type": "display_data",
          "data": {
            "image/png": "[encoded data removed]",
            "text/plain": [
              "<Figure size 432x288 with 1 Axes>"
            ]
          },
          "metadata": {
            "tags": []
          }
        }
      ]
    },
    {
      "cell_type": "markdown",
      "metadata": {
        "id": "QQP6O_R9A20r"
      },
      "source": [
        "## ■TRAINING"
      ]
    },
    {
      "cell_type": "code",
      "metadata": {
        "colab": {
          "base_uri": "https://localhost:8080/"
        },
        "id": "AGLdQyBHK-Dt",
        "outputId": "6fe7b06e-b44b-4269-a366-fe61f84d8bda"
      },
      "source": [
        "all_df.columns.values"
      ],
      "execution_count": null,
      "outputs": [
        {
          "output_type": "execute_result",
          "data": {
            "text/plain": [
              "array(['submitter', 'authors', 'title', 'comments', 'journal-ref', 'doi',\n",
              "       'report-no', 'categories', 'license', 'abstract', 'versions',\n",
              "       'update_date', 'authors_parsed', 'doi_cites', 'cites', 'train',\n",
              "       'log_cites', 'submitter_eptcs', 'submitter_count', 'in_journal',\n",
              "       'journal_epj', 'journal_jpj', 'journal_pr', 'journal_apl',\n",
              "       'journal_aj', 'cat_hep-ph', 'cat_hep-th', 'cat_astro-ph',\n",
              "       'cat_quant-ph', 'cat_gr-qc', 'cat_cond-mat.mes-hall',\n",
              "       'cat_cond-mat.str-el', 'cat_cond-mat.mtrl-sci',\n",
              "       'cat_cond-mat.stat-mech', 'cat_astro-ph.CO', 'cat_nucl-th',\n",
              "       'cat_astro-ph.SR', 'cat_astro-ph.GA', 'cat_math-ph', 'cat_math.MP',\n",
              "       'cat_astro-ph.HE', 'cat_cond-mat.supr-con', 'cat_hep-ex',\n",
              "       'cat_cond-mat.soft', 'cat_physics.optics', 'cat_hep-lat',\n",
              "       'cat_astro-ph.EP', 'cat_nucl-ex', 'cat_cond-mat.dis-nn',\n",
              "       'cat_cond-mat.quant-gas', 'cat_physics.atom-ph', 'cat_astro-ph.IM',\n",
              "       'cat_cond-mat', 'cat_cond-mat.other', 'cat_physics.flu-dyn',\n",
              "       'cat_physics.chem-ph', 'cat_math.PR', 'cat_nlin.CD',\n",
              "       'cat_physics.ins-det', 'cat_math.AP', 'cat_physics.comp-ph',\n",
              "       'cat_physics.soc-ph', 'cat_physics.plasm-ph', 'cat_cs.IT',\n",
              "       'cat_math.IT', 'cat_math.DG', 'cat_math.AG', 'cat_math.CO',\n",
              "       'cat_physics.bio-ph', 'cat_math.DS', 'cat_cs.LG', 'cat_nlin.SI',\n",
              "       'cat_cs.CV', 'cat_math.NA', 'cat_nlin.PS', 'num_of_categories',\n",
              "       'num_of_versions', 'first_edition_publication_date',\n",
              "       'first_edition_publication_year', 'last_edition_publication_date',\n",
              "       'last_edition_publication_year', 'renewal_period', 'auth_Zhang Y.',\n",
              "       'auth_Zhang L.', 'auth_CMS Collaboration ', 'auth_Gao Y.',\n",
              "       'auth_Li Y.', 'auth_Wang J.', 'auth_ATLAS Collaboration ',\n",
              "       'auth_Wang Y.', 'auth_Liu X.', 'auth_Williams M.', 'auth_Yang Z.',\n",
              "       'auth_Eidelman S.', 'auth_Fabian A. C.', 'auth_Schneider O.',\n",
              "       'auth_Krokovny P.', 'auth_Bondar A.', 'auth_Smith M.',\n",
              "       'auth_Smith E.', 'auth_Sun L.', 'auth_Ricciardi S.', 'auth_Xu Z.',\n",
              "       'auth_van Beuzekom M.', 'auth_Schmidt B.', 'auth_Wang Z.',\n",
              "       'auth_Shapkin M.', 'auth_Shears T.', 'auth_Sarma S. Das',\n",
              "       'auth_Manca G.', 'auth_Kreps M.', 'auth_McNulty R.',\n",
              "       'auth_Wilkinson G.', 'auth_Vorobyev V.', 'auth_Patel M.',\n",
              "       'auth_Zhang J.', 'auth_Artuso M.', 'auth_He J.', 'auth_Malde S.',\n",
              "       'auth_Zavertyaev M.', 'auth_Bencivenni G.', 'auth_Galli D.',\n",
              "       'auth_Stone S.', 'auth_Skwarnicki T.', 'auth_De Simone P.',\n",
              "       'auth_Mountain R.', 'auth_Naik P.', 'auth_Ward D. R.',\n",
              "       'auth_Frank M.', 'auth_Collins P.', 'auth_Petrolini A.',\n",
              "       'auth_Bocci V.', 'num_of_authors', 'log_doi_cites', 'journal_pcj'],\n",
              "      dtype=object)"
            ]
          },
          "metadata": {
            "tags": []
          },
          "execution_count": 75
        }
      ]
    },
    {
      "cell_type": "code",
      "metadata": {
        "id": "TOKuHnC2zbuq"
      },
      "source": [
        "# 使用する説明変数\r\n",
        "feature_params = [\r\n",
        "                  ## submitter\r\n",
        "                  'submitter_count',\r\n",
        "                  'submitter_eptcs',\r\n",
        "                  ## authors\r\n",
        "                  ## title\r\n",
        "                  ## comments\r\n",
        "                  ## jurnal-ref\r\n",
        "                  'in_journal',\r\n",
        "                  'journal_epj',\r\n",
        "                  'journal_jpj',                  \r\n",
        "                  'journal_pr',\r\n",
        "                  'journal_apl',\r\n",
        "                  'journal_aj',\r\n",
        "                  'journal_pcj',\r\n",
        "                  ## doi\r\n",
        "                  ## report-no\r\n",
        "                  ## categories\r\n",
        "                  'cat_hep-ph',\r\n",
        "                  'cat_hep-th',\r\n",
        "                  'cat_astro-ph',\r\n",
        "                  'cat_quant-ph',\r\n",
        "                  'cat_gr-qc',\r\n",
        "                  'cat_cond-mat.mes-hall',\r\n",
        "                  'cat_cond-mat.str-el',\r\n",
        "                  'cat_cond-mat.mtrl-sci',\r\n",
        "                  'cat_cond-mat.stat-mech',\r\n",
        "                  'cat_astro-ph.CO',\r\n",
        "                  'cat_nucl-th',\r\n",
        "                  'cat_astro-ph.SR',\r\n",
        "                  'cat_astro-ph.GA',\r\n",
        "                  'cat_math-ph',\r\n",
        "                  'cat_math.MP',\r\n",
        "                  'cat_astro-ph.HE',\r\n",
        "                  'cat_cond-mat.supr-con',\r\n",
        "                  'cat_hep-ex',\r\n",
        "                  'cat_cond-mat.soft',\r\n",
        "                  'cat_physics.optics',\r\n",
        "                  'cat_hep-lat',\r\n",
        "                  'cat_astro-ph.EP',\r\n",
        "                  'cat_nucl-ex',\r\n",
        "                  'cat_cond-mat.dis-nn',\r\n",
        "                  'cat_cond-mat.quant-gas',\r\n",
        "                  'cat_physics.atom-ph',\r\n",
        "                  'cat_astro-ph.IM',\r\n",
        "                  'cat_cond-mat',\r\n",
        "                  'cat_cond-mat.other',\r\n",
        "                  'cat_physics.flu-dyn',\r\n",
        "                  'cat_physics.chem-ph',\r\n",
        "                  'cat_math.PR',\r\n",
        "                  'cat_nlin.CD',\r\n",
        "                  'cat_physics.ins-det',\r\n",
        "                  'cat_math.AP',\r\n",
        "                  'cat_physics.comp-ph',\r\n",
        "                  'cat_physics.soc-ph',\r\n",
        "                  'cat_physics.plasm-ph',\r\n",
        "                  'cat_cs.IT',\r\n",
        "                  'cat_math.IT',\r\n",
        "                  'cat_math.DG',\r\n",
        "                  'cat_math.AG',\r\n",
        "                  'cat_math.CO',\r\n",
        "                  'cat_physics.bio-ph',\r\n",
        "                  'cat_math.DS',\r\n",
        "                  'cat_cs.LG',\r\n",
        "                  'cat_nlin.SI',\r\n",
        "                  'cat_cs.CV',\r\n",
        "                  'cat_math.NA',\r\n",
        "                  'cat_nlin.PS',                  \r\n",
        "                  'num_of_categories',\r\n",
        "                  ## license\r\n",
        "                  'license',\r\n",
        "                  ## abstract\r\n",
        "                  ## versions\r\n",
        "                  'num_of_versions',\r\n",
        "                  'first_edition_publication_year',\r\n",
        "                  'last_edition_publication_year',                 \r\n",
        "                  'renewal_period',\r\n",
        "                  ## update_date\r\n",
        "                  ## authors_parsed\r\n",
        "                  'auth_Zhang Y.',\r\n",
        "                  'auth_Zhang L.',\r\n",
        "                  'auth_CMS Collaboration ',\r\n",
        "                  'auth_Gao Y.',\r\n",
        "                  'auth_Li Y.',\r\n",
        "                  'auth_Wang J.',\r\n",
        "                  'auth_ATLAS Collaboration ',\r\n",
        "                  'auth_Wang Y.',\r\n",
        "                  'auth_Liu X.',\r\n",
        "                  'auth_Williams M.',\r\n",
        "                  'auth_Yang Z.',\r\n",
        "                  'auth_Eidelman S.',\r\n",
        "                  'auth_Fabian A. C.',\r\n",
        "                  'auth_Schneider O.',\r\n",
        "                  'auth_Krokovny P.',\r\n",
        "                  'auth_Bondar A.',\r\n",
        "                  'auth_Smith M.',\r\n",
        "                  'auth_Smith E.',\r\n",
        "                  'auth_Sun L.',\r\n",
        "                  'auth_Ricciardi S.',\r\n",
        "                  'auth_Xu Z.',\r\n",
        "                  #'auth_van Beuzekom M.', 'auth_Schmidt B.', 'auth_Wang Z.',\r\n",
        "                  #'auth_Shapkin M.', 'auth_Shears T.', 'auth_Sarma S. Das',\r\n",
        "                  #'auth_Kreps M.', 'auth_Manca G.', 'auth_McNulty R.',\r\n",
        "                  #'auth_Wilkinson G.', 'auth_Vorobyev V.', 'auth_Patel M.',\r\n",
        "                  #'auth_Zhang J.', 'auth_Artuso M.', 'auth_He J.', 'auth_Malde S.',\r\n",
        "                  #'auth_Zavertyaev M.', 'auth_Bencivenni G.', 'auth_Galli D.',\r\n",
        "                  #'auth_Stone S.', 'auth_Skwarnicki T.', 'auth_De Simone P.',\r\n",
        "                  #'auth_Mountain R.', 'auth_Naik P.', 'auth_Ward D. R.',\r\n",
        "                  #'auth_Frank M.', 'auth_Collins P.', 'auth_Petrolini A.',\r\n",
        "                  #'auth_Bocci V.',\r\n",
        "                  'num_of_authors',\r\n",
        "                  ## doi_cites\r\n",
        "                  'log_doi_cites',\r\n",
        "]\r\n"
      ],
      "execution_count": null,
      "outputs": []
    },
    {
      "cell_type": "code",
      "metadata": {
        "colab": {
          "base_uri": "https://localhost:8080/",
          "height": 308
        },
        "id": "LKCYzOYOIDcQ",
        "outputId": "fa971d9f-4926-4eb5-d601-1627ece865c2"
      },
      "source": [
        "all_df.loc[:, feature_params].describe()"
      ],
      "execution_count": null,
      "outputs": [
        {
          "output_type": "execute_result",
          "data": {
            "text/html": [
              "<div>\n",
              "<style scoped>\n",
              "    .dataframe tbody tr th:only-of-type {\n",
              "        vertical-align: middle;\n",
              "    }\n",
              "\n",
              "    .dataframe tbody tr th {\n",
              "        vertical-align: top;\n",
              "    }\n",
              "\n",
              "    .dataframe thead th {\n",
              "        text-align: right;\n",
              "    }\n",
              "</style>\n",
              "<table border=\"1\" class=\"dataframe\">\n",
              "  <thead>\n",
              "    <tr style=\"text-align: right;\">\n",
              "      <th></th>\n",
              "      <th>submitter_count</th>\n",
              "      <th>num_of_categories</th>\n",
              "      <th>num_of_versions</th>\n",
              "      <th>first_edition_publication_year</th>\n",
              "      <th>last_edition_publication_year</th>\n",
              "      <th>renewal_period</th>\n",
              "      <th>num_of_authors</th>\n",
              "      <th>log_doi_cites</th>\n",
              "    </tr>\n",
              "  </thead>\n",
              "  <tbody>\n",
              "    <tr>\n",
              "      <th>count</th>\n",
              "      <td>910608.000000</td>\n",
              "      <td>910608.000000</td>\n",
              "      <td>910608.000000</td>\n",
              "      <td>910608.000000</td>\n",
              "      <td>910608.000000</td>\n",
              "      <td>910608.000000</td>\n",
              "      <td>910608.000000</td>\n",
              "      <td>910608.000000</td>\n",
              "    </tr>\n",
              "    <tr>\n",
              "      <th>mean</th>\n",
              "      <td>18.212970</td>\n",
              "      <td>1.606107</td>\n",
              "      <td>1.599747</td>\n",
              "      <td>2010.273573</td>\n",
              "      <td>2010.522048</td>\n",
              "      <td>89.526855</td>\n",
              "      <td>5.155877</td>\n",
              "      <td>2.154042</td>\n",
              "    </tr>\n",
              "    <tr>\n",
              "      <th>std</th>\n",
              "      <td>32.519361</td>\n",
              "      <td>0.881442</td>\n",
              "      <td>0.891613</td>\n",
              "      <td>6.765578</td>\n",
              "      <td>6.822862</td>\n",
              "      <td>232.945363</td>\n",
              "      <td>25.933058</td>\n",
              "      <td>1.410395</td>\n",
              "    </tr>\n",
              "    <tr>\n",
              "      <th>min</th>\n",
              "      <td>0.000000</td>\n",
              "      <td>1.000000</td>\n",
              "      <td>1.000000</td>\n",
              "      <td>1986.000000</td>\n",
              "      <td>1986.000000</td>\n",
              "      <td>-292.000000</td>\n",
              "      <td>1.000000</td>\n",
              "      <td>0.000000</td>\n",
              "    </tr>\n",
              "    <tr>\n",
              "      <th>25%</th>\n",
              "      <td>4.000000</td>\n",
              "      <td>1.000000</td>\n",
              "      <td>1.000000</td>\n",
              "      <td>2006.000000</td>\n",
              "      <td>2006.000000</td>\n",
              "      <td>0.000000</td>\n",
              "      <td>2.000000</td>\n",
              "      <td>1.098612</td>\n",
              "    </tr>\n",
              "    <tr>\n",
              "      <th>50%</th>\n",
              "      <td>10.000000</td>\n",
              "      <td>1.000000</td>\n",
              "      <td>1.000000</td>\n",
              "      <td>2012.000000</td>\n",
              "      <td>2012.000000</td>\n",
              "      <td>0.000000</td>\n",
              "      <td>3.000000</td>\n",
              "      <td>2.197225</td>\n",
              "    </tr>\n",
              "    <tr>\n",
              "      <th>75%</th>\n",
              "      <td>22.000000</td>\n",
              "      <td>2.000000</td>\n",
              "      <td>2.000000</td>\n",
              "      <td>2016.000000</td>\n",
              "      <td>2016.000000</td>\n",
              "      <td>101.000000</td>\n",
              "      <td>4.000000</td>\n",
              "      <td>3.178054</td>\n",
              "    </tr>\n",
              "    <tr>\n",
              "      <th>max</th>\n",
              "      <td>615.000000</td>\n",
              "      <td>11.000000</td>\n",
              "      <td>152.000000</td>\n",
              "      <td>2020.000000</td>\n",
              "      <td>2020.000000</td>\n",
              "      <td>9416.000000</td>\n",
              "      <td>2832.000000</td>\n",
              "      <td>10.133567</td>\n",
              "    </tr>\n",
              "  </tbody>\n",
              "</table>\n",
              "</div>"
            ],
            "text/plain": [
              "       submitter_count  num_of_categories  ...  num_of_authors  log_doi_cites\n",
              "count    910608.000000      910608.000000  ...   910608.000000  910608.000000\n",
              "mean         18.212970           1.606107  ...        5.155877       2.154042\n",
              "std          32.519361           0.881442  ...       25.933058       1.410395\n",
              "min           0.000000           1.000000  ...        1.000000       0.000000\n",
              "25%           4.000000           1.000000  ...        2.000000       1.098612\n",
              "50%          10.000000           1.000000  ...        3.000000       2.197225\n",
              "75%          22.000000           2.000000  ...        4.000000       3.178054\n",
              "max         615.000000          11.000000  ...     2832.000000      10.133567\n",
              "\n",
              "[8 rows x 8 columns]"
            ]
          },
          "metadata": {
            "tags": []
          },
          "execution_count": 77
        }
      ]
    },
    {
      "cell_type": "code",
      "metadata": {
        "colab": {
          "base_uri": "https://localhost:8080/"
        },
        "id": "6Q3QQ3aCHWPx",
        "outputId": "e89890dc-d834-4481-beb9-630dd31aafc2"
      },
      "source": [
        "all_df.loc[:, feature_params].dtypes"
      ],
      "execution_count": null,
      "outputs": [
        {
          "output_type": "execute_result",
          "data": {
            "text/plain": [
              "submitter_count        int64\n",
              "submitter_eptcs         bool\n",
              "in_journal              bool\n",
              "journal_epj             bool\n",
              "journal_jpj             bool\n",
              "                      ...   \n",
              "auth_Sun L.             bool\n",
              "auth_Ricciardi S.       bool\n",
              "auth_Xu Z.              bool\n",
              "num_of_authors         int64\n",
              "log_doi_cites        float64\n",
              "Length: 88, dtype: object"
            ]
          },
          "metadata": {
            "tags": []
          },
          "execution_count": 78
        }
      ]
    },
    {
      "cell_type": "code",
      "metadata": {
        "colab": {
          "base_uri": "https://localhost:8080/"
        },
        "id": "wlfGjbczH6Zo",
        "outputId": "112b2f0b-63f2-4de2-efe3-9b6d3d152c58"
      },
      "source": [
        "categorical_columns = all_df.columns[all_df.dtypes == 'category'].values\r\n",
        "categorical_columns"
      ],
      "execution_count": null,
      "outputs": [
        {
          "output_type": "execute_result",
          "data": {
            "text/plain": [
              "array(['license'], dtype=object)"
            ]
          },
          "metadata": {
            "tags": []
          },
          "execution_count": 79
        }
      ]
    },
    {
      "cell_type": "code",
      "metadata": {
        "id": "yokXqhh8z_pU"
      },
      "source": [
        "tmp_df = all_df.loc[:, feature_params + ['train', 'log_cites']]\r\n",
        "tmp_df = tmp_df[tmp_df.log_cites.notna()]"
      ],
      "execution_count": null,
      "outputs": []
    },
    {
      "cell_type": "code",
      "metadata": {
        "id": "yJMlh-mF5QC2"
      },
      "source": [
        "X = tmp_df.loc[tmp_df.train, feature_params]\r\n",
        "y = tmp_df.loc[tmp_df.train, 'log_cites']\r\n",
        "test_X = tmp_df.loc[~tmp_df.train, feature_params]"
      ],
      "execution_count": null,
      "outputs": []
    },
    {
      "cell_type": "code",
      "metadata": {
        "id": "JLJaWbqTCbky"
      },
      "source": [
        "# パラメータチューニング用設定\r\n",
        "tuning_params = {\r\n",
        "    'objective':'regression',\r\n",
        "    'metric': \"rmse\",\r\n",
        "    'random_seed': SEED,\r\n",
        "}"
      ],
      "execution_count": 88,
      "outputs": []
    },
    {
      "cell_type": "code",
      "metadata": {
        "colab": {
          "base_uri": "https://localhost:8080/"
        },
        "id": "jn_QzEe11nam",
        "outputId": "9b8d3285-44ba-4a78-a8d0-755659418416"
      },
      "source": [
        "# パラメータチューニング\r\n",
        "\r\n",
        "train_X, valid_X, train_y, valid_y = train_test_split(X, y, test_size=TEST_SIZE)\r\n",
        "gbm = _lgb.train(tuning_params,\r\n",
        "                lgb.Dataset(train_X, train_y),\r\n",
        "                valid_sets=lgb.Dataset(valid_X, valid_y),\r\n",
        "                verbose_eval=0\r\n",
        ")\r\n",
        "preds = gbm.predict(valid_X)\r\n",
        "mrse = np.sqrt(mean_squared_error(preds, valid_y))\r\n",
        "params = gbm.params\r\n",
        "\r\n",
        "print()\r\n",
        "print(f\"SCORE : {mrse}\")\r\n",
        "print(f\"PARAM : {params}\")\r\n"
      ],
      "execution_count": 90,
      "outputs": [
        {
          "output_type": "stream",
          "text": [
            "\u001b[32m[I 2021-02-15 10:21:54,778]\u001b[0m A new study created in memory with name: no-name-e8dffe13-cf0f-47fe-9aeb-eee4e6d3ebe4\u001b[0m\n",
            "feature_fraction, val_score: inf:   0%|          | 0/7 [00:00<?, ?it/s]/usr/local/lib/python3.6/dist-packages/lightgbm/basic.py:762: UserWarning:\n",
            "\n",
            "categorical_feature in param dict is overridden.\n",
            "\n",
            "feature_fraction, val_score: 0.521695:  14%|#4        | 1/7 [00:02<00:12,  2.13s/it]\u001b[32m[I 2021-02-15 10:21:56,922]\u001b[0m Trial 0 finished with value: 0.5216946844758935 and parameters: {'feature_fraction': 0.8}. Best is trial 0 with value: 0.5216946844758935.\u001b[0m\n",
            "feature_fraction, val_score: 0.518315:  29%|##8       | 2/7 [00:04<00:10,  2.08s/it]\u001b[32m[I 2021-02-15 10:21:58,881]\u001b[0m Trial 1 finished with value: 0.5183146864005767 and parameters: {'feature_fraction': 0.4}. Best is trial 1 with value: 0.5183146864005767.\u001b[0m\n",
            "feature_fraction, val_score: 0.518315:  43%|####2     | 3/7 [00:06<00:08,  2.05s/it]\u001b[32m[I 2021-02-15 10:22:00,877]\u001b[0m Trial 2 finished with value: 0.5199099394874591 and parameters: {'feature_fraction': 0.5}. Best is trial 1 with value: 0.5183146864005767.\u001b[0m\n",
            "feature_fraction, val_score: 0.518315:  57%|#####7    | 4/7 [00:08<00:06,  2.10s/it]\u001b[32m[I 2021-02-15 10:22:03,078]\u001b[0m Trial 3 finished with value: 0.5227718222071076 and parameters: {'feature_fraction': 0.8999999999999999}. Best is trial 1 with value: 0.5183146864005767.\u001b[0m\n",
            "feature_fraction, val_score: 0.518315:  71%|#######1  | 5/7 [00:10<00:04,  2.15s/it]\u001b[32m[I 2021-02-15 10:22:05,351]\u001b[0m Trial 4 finished with value: 0.5230660473776041 and parameters: {'feature_fraction': 1.0}. Best is trial 1 with value: 0.5183146864005767.\u001b[0m\n",
            "feature_fraction, val_score: 0.518315:  86%|########5 | 6/7 [00:12<00:02,  2.11s/it]\u001b[32m[I 2021-02-15 10:22:07,362]\u001b[0m Trial 5 finished with value: 0.5201922735171943 and parameters: {'feature_fraction': 0.6}. Best is trial 1 with value: 0.5183146864005767.\u001b[0m\n",
            "feature_fraction, val_score: 0.518315: 100%|##########| 7/7 [00:14<00:00,  2.09s/it]\u001b[32m[I 2021-02-15 10:22:09,403]\u001b[0m Trial 6 finished with value: 0.521680912544198 and parameters: {'feature_fraction': 0.7}. Best is trial 1 with value: 0.5183146864005767.\u001b[0m\n",
            "feature_fraction, val_score: 0.518315: 100%|##########| 7/7 [00:14<00:00,  2.09s/it]\n",
            "num_leaves, val_score: 0.518315:   5%|5         | 1/20 [00:07<02:18,  7.31s/it]\u001b[32m[I 2021-02-15 10:22:16,728]\u001b[0m Trial 7 finished with value: 0.5637824698995355 and parameters: {'num_leaves': 189}. Best is trial 7 with value: 0.5637824698995355.\u001b[0m\n",
            "num_leaves, val_score: 0.502256:  10%|#         | 2/20 [00:08<01:38,  5.45s/it]\u001b[32m[I 2021-02-15 10:22:17,817]\u001b[0m Trial 8 finished with value: 0.5022555087378979 and parameters: {'num_leaves': 11}. Best is trial 8 with value: 0.5022555087378979.\u001b[0m\n",
            "num_leaves, val_score: 0.502256:  15%|#5        | 3/20 [00:15<01:43,  6.06s/it]\u001b[32m[I 2021-02-15 10:22:25,319]\u001b[0m Trial 9 finished with value: 0.5622420177057509 and parameters: {'num_leaves': 195}. Best is trial 8 with value: 0.5022555087378979.\u001b[0m\n",
            "num_leaves, val_score: 0.502256:  20%|##        | 4/20 [00:19<01:27,  5.46s/it]\u001b[32m[I 2021-02-15 10:22:29,385]\u001b[0m Trial 10 finished with value: 0.542553312793622 and parameters: {'num_leaves': 89}. Best is trial 8 with value: 0.5022555087378979.\u001b[0m\n",
            "num_leaves, val_score: 0.502256:  25%|##5       | 5/20 [00:22<01:07,  4.48s/it]\u001b[32m[I 2021-02-15 10:22:31,577]\u001b[0m Trial 11 finished with value: 0.5229829343036706 and parameters: {'num_leaves': 37}. Best is trial 8 with value: 0.5022555087378979.\u001b[0m\n",
            "num_leaves, val_score: 0.502256:  30%|###       | 6/20 [00:23<00:49,  3.55s/it]\u001b[32m[I 2021-02-15 10:22:32,960]\u001b[0m Trial 12 finished with value: 0.5074619840510324 and parameters: {'num_leaves': 16}. Best is trial 8 with value: 0.5022555087378979.\u001b[0m\n",
            "num_leaves, val_score: 0.502256:  35%|###5      | 7/20 [00:29<00:57,  4.39s/it]\u001b[32m[I 2021-02-15 10:22:39,301]\u001b[0m Trial 13 finished with value: 0.558855456186641 and parameters: {'num_leaves': 159}. Best is trial 8 with value: 0.5022555087378979.\u001b[0m\n",
            "num_leaves, val_score: 0.502256:  40%|####      | 8/20 [00:38<01:06,  5.58s/it]\u001b[32m[I 2021-02-15 10:22:47,668]\u001b[0m Trial 14 finished with value: 0.5694051432406817 and parameters: {'num_leaves': 227}. Best is trial 8 with value: 0.5022555087378979.\u001b[0m\n",
            "num_leaves, val_score: 0.502256:  45%|####5     | 9/20 [00:42<00:58,  5.32s/it]\u001b[32m[I 2021-02-15 10:22:52,384]\u001b[0m Trial 15 finished with value: 0.5459287918677408 and parameters: {'num_leaves': 107}. Best is trial 8 with value: 0.5022555087378979.\u001b[0m\n",
            "num_leaves, val_score: 0.502256:  50%|#####     | 10/20 [00:49<00:57,  5.79s/it]\u001b[32m[I 2021-02-15 10:22:59,268]\u001b[0m Trial 16 finished with value: 0.5620552864995337 and parameters: {'num_leaves': 174}. Best is trial 8 with value: 0.5022555087378979.\u001b[0m\n",
            "num_leaves, val_score: 0.502256:  55%|#####5    | 11/20 [00:52<00:44,  4.96s/it]\u001b[32m[I 2021-02-15 10:23:02,284]\u001b[0m Trial 17 finished with value: 0.5332050105925006 and parameters: {'num_leaves': 59}. Best is trial 8 with value: 0.5022555087378979.\u001b[0m\n",
            "num_leaves, val_score: 0.496522:  60%|######    | 12/20 [00:53<00:29,  3.69s/it]\u001b[32m[I 2021-02-15 10:23:03,017]\u001b[0m Trial 18 finished with value: 0.49652157445998607 and parameters: {'num_leaves': 4}. Best is trial 18 with value: 0.49652157445998607.\u001b[0m\n",
            "num_leaves, val_score: 0.496522:  65%|######5   | 13/20 [00:55<00:22,  3.17s/it]\u001b[32m[I 2021-02-15 10:23:04,969]\u001b[0m Trial 19 finished with value: 0.5164909637070827 and parameters: {'num_leaves': 30}. Best is trial 18 with value: 0.49652157445998607.\u001b[0m\n",
            "num_leaves, val_score: 0.496522:  70%|#######   | 14/20 [00:56<00:15,  2.52s/it]\u001b[32m[I 2021-02-15 10:23:05,982]\u001b[0m Trial 20 finished with value: 0.5002176567822104 and parameters: {'num_leaves': 9}. Best is trial 18 with value: 0.49652157445998607.\u001b[0m\n",
            "num_leaves, val_score: 0.496522:  75%|#######5  | 15/20 [00:59<00:13,  2.75s/it]\u001b[32m[I 2021-02-15 10:23:09,246]\u001b[0m Trial 21 finished with value: 0.5353236020186666 and parameters: {'num_leaves': 66}. Best is trial 18 with value: 0.49652157445998607.\u001b[0m\n",
            "num_leaves, val_score: 0.496522:  80%|########  | 16/20 [01:00<00:08,  2.14s/it]\u001b[32m[I 2021-02-15 10:23:09,967]\u001b[0m Trial 22 finished with value: 0.49652157445998607 and parameters: {'num_leaves': 4}. Best is trial 18 with value: 0.49652157445998607.\u001b[0m\n",
            "num_leaves, val_score: 0.496522:  85%|########5 | 17/20 [01:06<00:09,  3.14s/it]\u001b[32m[I 2021-02-15 10:23:15,451]\u001b[0m Trial 23 finished with value: 0.5528576653061236 and parameters: {'num_leaves': 130}. Best is trial 18 with value: 0.49652157445998607.\u001b[0m\n",
            "num_leaves, val_score: 0.496522:  90%|######### | 18/20 [01:06<00:04,  2.35s/it]\u001b[32m[I 2021-02-15 10:23:15,968]\u001b[0m Trial 24 finished with value: 0.5101791956014088 and parameters: {'num_leaves': 2}. Best is trial 18 with value: 0.49652157445998607.\u001b[0m\n",
            "num_leaves, val_score: 0.496522:  95%|#########5| 19/20 [01:09<00:02,  2.51s/it]\u001b[32m[I 2021-02-15 10:23:18,851]\u001b[0m Trial 25 finished with value: 0.5302449233264154 and parameters: {'num_leaves': 56}. Best is trial 18 with value: 0.49652157445998607.\u001b[0m\n",
            "num_leaves, val_score: 0.496522: 100%|##########| 20/20 [01:18<00:00,  4.45s/it]\u001b[32m[I 2021-02-15 10:23:27,823]\u001b[0m Trial 26 finished with value: 0.5678348660830467 and parameters: {'num_leaves': 246}. Best is trial 18 with value: 0.49652157445998607.\u001b[0m\n",
            "num_leaves, val_score: 0.496522: 100%|##########| 20/20 [01:18<00:00,  3.92s/it]\n",
            "bagging, val_score: 0.496283:  10%|#         | 1/10 [00:01<00:10,  1.11s/it]\u001b[32m[I 2021-02-15 10:23:28,946]\u001b[0m Trial 27 finished with value: 0.4962827045563617 and parameters: {'bagging_fraction': 0.820702329738526, 'bagging_freq': 5}. Best is trial 27 with value: 0.4962827045563617.\u001b[0m\n",
            "bagging, val_score: 0.496283:  20%|##        | 2/10 [00:02<00:08,  1.09s/it]\u001b[32m[I 2021-02-15 10:23:29,983]\u001b[0m Trial 28 finished with value: 0.4977480626064562 and parameters: {'bagging_fraction': 0.7343556248049707, 'bagging_freq': 7}. Best is trial 27 with value: 0.4962827045563617.\u001b[0m\n",
            "bagging, val_score: 0.496283:  30%|###       | 3/10 [00:03<00:08,  1.19s/it]\u001b[32m[I 2021-02-15 10:23:31,407]\u001b[0m Trial 29 finished with value: 0.4983591163413788 and parameters: {'bagging_fraction': 0.7454678099064931, 'bagging_freq': 2}. Best is trial 27 with value: 0.4962827045563617.\u001b[0m\n",
            "bagging, val_score: 0.496283:  40%|####      | 4/10 [00:04<00:07,  1.19s/it]\u001b[32m[I 2021-02-15 10:23:32,587]\u001b[0m Trial 30 finished with value: 0.49651592609939965 and parameters: {'bagging_fraction': 0.9974543992956801, 'bagging_freq': 6}. Best is trial 27 with value: 0.4962827045563617.\u001b[0m\n",
            "bagging, val_score: 0.496283:  50%|#####     | 5/10 [00:05<00:06,  1.20s/it]\u001b[32m[I 2021-02-15 10:23:33,828]\u001b[0m Trial 31 finished with value: 0.49741226343952294 and parameters: {'bagging_fraction': 0.7573393783140903, 'bagging_freq': 3}. Best is trial 27 with value: 0.4962827045563617.\u001b[0m\n",
            "bagging, val_score: 0.496283:  60%|######    | 6/10 [00:07<00:04,  1.22s/it]\u001b[32m[I 2021-02-15 10:23:35,108]\u001b[0m Trial 32 finished with value: 0.49794575782830475 and parameters: {'bagging_fraction': 0.5531627966400814, 'bagging_freq': 2}. Best is trial 27 with value: 0.4962827045563617.\u001b[0m\n",
            "bagging, val_score: 0.496283:  70%|#######   | 7/10 [00:08<00:03,  1.15s/it]\u001b[32m[I 2021-02-15 10:23:36,080]\u001b[0m Trial 33 finished with value: 0.49736803559943915 and parameters: {'bagging_fraction': 0.5978609521232896, 'bagging_freq': 7}. Best is trial 27 with value: 0.4962827045563617.\u001b[0m\n",
            "bagging, val_score: 0.496283:  80%|########  | 8/10 [00:09<00:02,  1.07s/it]\u001b[32m[I 2021-02-15 10:23:36,976]\u001b[0m Trial 34 finished with value: 0.4967548696959002 and parameters: {'bagging_fraction': 0.675666200223712, 'bagging_freq': 1}. Best is trial 27 with value: 0.4962827045563617.\u001b[0m\n",
            "bagging, val_score: 0.496283:  90%|######### | 9/10 [00:10<00:01,  1.04s/it]\u001b[32m[I 2021-02-15 10:23:37,948]\u001b[0m Trial 35 finished with value: 0.49944493118151384 and parameters: {'bagging_fraction': 0.5053601825355944, 'bagging_freq': 5}. Best is trial 27 with value: 0.4962827045563617.\u001b[0m\n",
            "bagging, val_score: 0.496283: 100%|##########| 10/10 [00:11<00:00,  1.01s/it]\u001b[32m[I 2021-02-15 10:23:38,878]\u001b[0m Trial 36 finished with value: 0.4977792830433859 and parameters: {'bagging_fraction': 0.5107400163983709, 'bagging_freq': 7}. Best is trial 27 with value: 0.4962827045563617.\u001b[0m\n",
            "bagging, val_score: 0.496283: 100%|##########| 10/10 [00:11<00:00,  1.10s/it]\n",
            "feature_fraction_stage2, val_score: 0.496283:  33%|###3      | 1/3 [00:01<00:02,  1.16s/it]\u001b[32m[I 2021-02-15 10:23:40,052]\u001b[0m Trial 37 finished with value: 0.49635811859153545 and parameters: {'feature_fraction': 0.48000000000000004}. Best is trial 37 with value: 0.49635811859153545.\u001b[0m\n",
            "feature_fraction_stage2, val_score: 0.496283:  67%|######6   | 2/3 [00:02<00:01,  1.16s/it]\u001b[32m[I 2021-02-15 10:23:41,204]\u001b[0m Trial 38 finished with value: 0.49706169836708514 and parameters: {'feature_fraction': 0.41600000000000004}. Best is trial 37 with value: 0.49635811859153545.\u001b[0m\n",
            "feature_fraction_stage2, val_score: 0.496283: 100%|##########| 3/3 [00:03<00:00,  1.16s/it]\u001b[32m[I 2021-02-15 10:23:42,371]\u001b[0m Trial 39 finished with value: 0.4975775729020178 and parameters: {'feature_fraction': 0.44800000000000006}. Best is trial 37 with value: 0.49635811859153545.\u001b[0m\n",
            "feature_fraction_stage2, val_score: 0.496283: 100%|##########| 3/3 [00:03<00:00,  1.16s/it]\n",
            "regularization_factors, val_score: 0.496283:   5%|5         | 1/20 [00:01<00:21,  1.13s/it]\u001b[32m[I 2021-02-15 10:23:43,506]\u001b[0m Trial 40 finished with value: 0.4964380259201388 and parameters: {'lambda_l1': 0.2851327693423646, 'lambda_l2': 0.003414347525780685}. Best is trial 40 with value: 0.4964380259201388.\u001b[0m\n",
            "regularization_factors, val_score: 0.496283:  10%|#         | 2/20 [00:02<00:20,  1.13s/it]\u001b[32m[I 2021-02-15 10:23:44,630]\u001b[0m Trial 41 finished with value: 0.4965393130562156 and parameters: {'lambda_l1': 0.02572618528315146, 'lambda_l2': 6.399943335800521e-08}. Best is trial 40 with value: 0.4964380259201388.\u001b[0m\n",
            "regularization_factors, val_score: 0.496283:  15%|#5        | 3/20 [00:03<00:19,  1.14s/it]\u001b[32m[I 2021-02-15 10:23:45,815]\u001b[0m Trial 42 finished with value: 0.49628270442125827 and parameters: {'lambda_l1': 1.7203297155599464e-07, 'lambda_l2': 8.954333931958072e-07}. Best is trial 42 with value: 0.49628270442125827.\u001b[0m\n",
            "regularization_factors, val_score: 0.496283:  20%|##        | 4/20 [00:04<00:18,  1.15s/it]\u001b[32m[I 2021-02-15 10:23:46,963]\u001b[0m Trial 43 finished with value: 0.49628270311695155 and parameters: {'lambda_l1': 4.5199722299547744e-07, 'lambda_l2': 1.3399623245885991e-05}. Best is trial 43 with value: 0.49628270311695155.\u001b[0m\n",
            "regularization_factors, val_score: 0.496282:  25%|##5       | 5/20 [00:05<00:17,  1.14s/it]\u001b[32m[I 2021-02-15 10:23:48,100]\u001b[0m Trial 44 finished with value: 0.49628220940623974 and parameters: {'lambda_l1': 0.00015374737843567806, 'lambda_l2': 0.004574713041412481}. Best is trial 44 with value: 0.49628220940623974.\u001b[0m\n",
            "regularization_factors, val_score: 0.496282:  30%|###       | 6/20 [00:06<00:15,  1.14s/it]\u001b[32m[I 2021-02-15 10:23:49,234]\u001b[0m Trial 45 finished with value: 0.4962820567431568 and parameters: {'lambda_l1': 0.00016650705331484994, 'lambda_l2': 0.006097766484210572}. Best is trial 45 with value: 0.4962820567431568.\u001b[0m\n",
            "regularization_factors, val_score: 0.496282:  35%|###5      | 7/20 [00:07<00:14,  1.14s/it]\u001b[32m[I 2021-02-15 10:23:50,377]\u001b[0m Trial 46 finished with value: 0.49642509802917156 and parameters: {'lambda_l1': 4.1220276875235365e-07, 'lambda_l2': 0.12991232924103685}. Best is trial 45 with value: 0.4962820567431568.\u001b[0m\n",
            "regularization_factors, val_score: 0.496282:  40%|####      | 8/20 [00:09<00:13,  1.15s/it]\u001b[32m[I 2021-02-15 10:23:51,551]\u001b[0m Trial 47 finished with value: 0.49684735490668447 and parameters: {'lambda_l1': 0.1487141624761258, 'lambda_l2': 0.6932204145649117}. Best is trial 45 with value: 0.4962820567431568.\u001b[0m\n",
            "regularization_factors, val_score: 0.496282:  45%|####5     | 9/20 [00:10<00:12,  1.15s/it]\u001b[32m[I 2021-02-15 10:23:52,692]\u001b[0m Trial 48 finished with value: 0.49663875479739544 and parameters: {'lambda_l1': 1.0854838040725056e-07, 'lambda_l2': 0.0650510941148587}. Best is trial 45 with value: 0.4962820567431568.\u001b[0m\n",
            "regularization_factors, val_score: 0.496282:  50%|#####     | 10/20 [00:11<00:11,  1.14s/it]\u001b[32m[I 2021-02-15 10:23:53,820]\u001b[0m Trial 49 finished with value: 0.49628269285051574 and parameters: {'lambda_l1': 3.4798026406476325e-05, 'lambda_l2': 7.067892497056005e-06}. Best is trial 45 with value: 0.4962820567431568.\u001b[0m\n",
            "regularization_factors, val_score: 0.495740:  55%|#####5    | 11/20 [00:12<00:10,  1.14s/it]\u001b[32m[I 2021-02-15 10:23:54,974]\u001b[0m Trial 50 finished with value: 0.4957399518982305 and parameters: {'lambda_l1': 0.005588051402414683, 'lambda_l2': 7.96264968341647}. Best is trial 50 with value: 0.4957399518982305.\u001b[0m\n",
            "regularization_factors, val_score: 0.495740:  60%|######    | 12/20 [00:13<00:09,  1.16s/it]\u001b[32m[I 2021-02-15 10:23:56,163]\u001b[0m Trial 51 finished with value: 0.49626473052886716 and parameters: {'lambda_l1': 0.003503212394820978, 'lambda_l2': 4.476523833931886}. Best is trial 50 with value: 0.4957399518982305.\u001b[0m\n",
            "regularization_factors, val_score: 0.495740:  65%|######5   | 13/20 [00:14<00:08,  1.17s/it]\u001b[32m[I 2021-02-15 10:23:57,357]\u001b[0m Trial 52 finished with value: 0.4983035394973172 and parameters: {'lambda_l1': 8.208132402181667, 'lambda_l2': 2.1246070784270445}. Best is trial 50 with value: 0.4957399518982305.\u001b[0m\n",
            "regularization_factors, val_score: 0.495402:  70%|#######   | 14/20 [00:16<00:06,  1.16s/it]\u001b[32m[I 2021-02-15 10:23:58,501]\u001b[0m Trial 53 finished with value: 0.49540150802411076 and parameters: {'lambda_l1': 0.0028575664112043485, 'lambda_l2': 8.652284627085571}. Best is trial 53 with value: 0.49540150802411076.\u001b[0m\n",
            "regularization_factors, val_score: 0.495402:  75%|#######5  | 15/20 [00:17<00:05,  1.16s/it]\u001b[32m[I 2021-02-15 10:23:59,644]\u001b[0m Trial 54 finished with value: 0.4960087687347737 and parameters: {'lambda_l1': 0.003769894010737637, 'lambda_l2': 3.6940549213910567}. Best is trial 53 with value: 0.49540150802411076.\u001b[0m\n",
            "regularization_factors, val_score: 0.495402:  80%|########  | 16/20 [00:18<00:04,  1.15s/it]\u001b[32m[I 2021-02-15 10:24:00,800]\u001b[0m Trial 55 finished with value: 0.49607548962182196 and parameters: {'lambda_l1': 7.075430342621993e-06, 'lambda_l2': 7.510498469711219}. Best is trial 53 with value: 0.49540150802411076.\u001b[0m\n",
            "regularization_factors, val_score: 0.495233:  85%|########5 | 17/20 [00:19<00:03,  1.16s/it]\u001b[32m[I 2021-02-15 10:24:01,977]\u001b[0m Trial 56 finished with value: 0.49523252765121517 and parameters: {'lambda_l1': 2.9552360879479775, 'lambda_l2': 0.13011440579025282}. Best is trial 56 with value: 0.49523252765121517.\u001b[0m\n",
            "regularization_factors, val_score: 0.495233:  90%|######### | 18/20 [00:20<00:02,  1.18s/it]\u001b[32m[I 2021-02-15 10:24:03,183]\u001b[0m Trial 57 finished with value: 0.4959075265126039 and parameters: {'lambda_l1': 5.16808556928827, 'lambda_l2': 0.08207460090882891}. Best is trial 56 with value: 0.49523252765121517.\u001b[0m\n",
            "regularization_factors, val_score: 0.495233:  95%|#########5| 19/20 [00:21<00:01,  1.17s/it]\u001b[32m[I 2021-02-15 10:24:04,338]\u001b[0m Trial 58 finished with value: 0.4960014107830024 and parameters: {'lambda_l1': 0.6851781740245839, 'lambda_l2': 0.0002457177352409523}. Best is trial 56 with value: 0.49523252765121517.\u001b[0m\n",
            "regularization_factors, val_score: 0.495233: 100%|##########| 20/20 [00:23<00:00,  1.16s/it]\u001b[32m[I 2021-02-15 10:24:05,493]\u001b[0m Trial 59 finished with value: 0.49629538973690995 and parameters: {'lambda_l1': 1.327758073122891, 'lambda_l2': 0.22401994769504957}. Best is trial 56 with value: 0.49523252765121517.\u001b[0m\n",
            "regularization_factors, val_score: 0.495233: 100%|##########| 20/20 [00:23<00:00,  1.16s/it]\n",
            "min_data_in_leaf, val_score: 0.495233:  20%|##        | 1/5 [00:01<00:04,  1.23s/it]\u001b[32m[I 2021-02-15 10:24:06,744]\u001b[0m Trial 60 finished with value: 0.4996883130845801 and parameters: {'min_child_samples': 100}. Best is trial 60 with value: 0.4996883130845801.\u001b[0m\n",
            "min_data_in_leaf, val_score: 0.495233:  40%|####      | 2/5 [00:02<00:03,  1.22s/it]\u001b[32m[I 2021-02-15 10:24:07,926]\u001b[0m Trial 61 finished with value: 0.49556385100279804 and parameters: {'min_child_samples': 25}. Best is trial 61 with value: 0.49556385100279804.\u001b[0m\n",
            "min_data_in_leaf, val_score: 0.495233:  60%|######    | 3/5 [00:03<00:02,  1.21s/it]\u001b[32m[I 2021-02-15 10:24:09,105]\u001b[0m Trial 62 finished with value: 0.49705916143993534 and parameters: {'min_child_samples': 50}. Best is trial 61 with value: 0.49556385100279804.\u001b[0m\n",
            "min_data_in_leaf, val_score: 0.495233:  80%|########  | 4/5 [00:04<00:01,  1.21s/it]\u001b[32m[I 2021-02-15 10:24:10,322]\u001b[0m Trial 63 finished with value: 0.4952541763097495 and parameters: {'min_child_samples': 5}. Best is trial 63 with value: 0.4952541763097495.\u001b[0m\n",
            "min_data_in_leaf, val_score: 0.494767: 100%|##########| 5/5 [00:06<00:00,  1.20s/it]\u001b[32m[I 2021-02-15 10:24:11,516]\u001b[0m Trial 64 finished with value: 0.49476656221129 and parameters: {'min_child_samples': 10}. Best is trial 64 with value: 0.49476656221129.\u001b[0m\n",
            "min_data_in_leaf, val_score: 0.494767: 100%|##########| 5/5 [00:06<00:00,  1.20s/it]"
          ],
          "name": "stderr"
        },
        {
          "output_type": "stream",
          "text": [
            "\n",
            "SCORE : 0.49476655965466954\n",
            "PARAM : {'objective': 'regression', 'metric': 'rmse', 'random_seed': 1000, 'feature_pre_filter': False, 'lambda_l1': 2.9552360879479775, 'lambda_l2': 0.13011440579025282, 'num_leaves': 4, 'feature_fraction': 0.4, 'bagging_fraction': 0.820702329738526, 'bagging_freq': 5, 'min_child_samples': 10}\n"
          ],
          "name": "stdout"
        },
        {
          "output_type": "stream",
          "text": [
            "\n"
          ],
          "name": "stderr"
        }
      ]
    },
    {
      "cell_type": "code",
      "metadata": {
        "colab": {
          "base_uri": "https://localhost:8080/",
          "height": 35
        },
        "id": "kJsm9ePQRZ28",
        "outputId": "70740c4d-d135-4305-cf2c-de01d01afb2e"
      },
      "source": [
        "# チューニングしたパラメータにより予測\r\n",
        "\"\"\"\r\n",
        "ret = np.expm1(gbm.predict(test_X))\r\n",
        "result = pd.DataFrame({'cites' :ret}, index=test_X.index)\r\n",
        "result.to_csv(OUTPUT_FILE)\r\n",
        "files.download(OUTPUT_FILE)\r\n",
        "\"\"\""
      ],
      "execution_count": null,
      "outputs": [
        {
          "output_type": "execute_result",
          "data": {
            "application/vnd.google.colaboratory.intrinsic+json": {
              "type": "string"
            },
            "text/plain": [
              "\"\\nret = np.expm1(gbm.predict(test_X))\\nresult = pd.DataFrame({'cites' :ret}, index=test_X.index)\\nresult.to_csv(OUTPUT_FILE)\\nfiles.download(OUTPUT_FILE)\\n\""
            ]
          },
          "metadata": {
            "tags": []
          },
          "execution_count": 84
        }
      ]
    },
    {
      "cell_type": "code",
      "metadata": {
        "id": "wmgM_LQOS-cd"
      },
      "source": [
        "# パラメータ\r\n",
        "lgbm_params = {\r\n",
        "    'objective':'regression',\r\n",
        "    'metric': \"rmse\",\r\n",
        "    # 'boosting_type': 'gbdt',\r\n",
        "    'random_seed': SEED,\r\n",
        "    'learning_rate': 0.01,\r\n",
        "    \"num_iterations\": 10000,\r\n",
        "    #'max_depth': 40,\r\n",
        "    #'num_leaves': 80, # 2 ** 7 = 128\r\n",
        "    #'bagging_fraction': 0.95,\r\n",
        "    #'bagging_freq': 0.05,\r\n",
        "    #'bagging_seed': SEED,\r\n",
        "    'categorical_feature': categorical_columns,\r\n",
        "    'early_stopping_rounds': 200,\r\n",
        "}"
      ],
      "execution_count": null,
      "outputs": []
    },
    {
      "cell_type": "code",
      "metadata": {
        "colab": {
          "base_uri": "https://localhost:8080/"
        },
        "id": "KPUPuJ5weCxX",
        "outputId": "73febc55-31b7-40bd-d67d-f8879c0ebd5d"
      },
      "source": [
        "result_df = pd.DataFrame(np.nan, index=test_X.index, columns=[f'fold{n}' for n in range(1, NUM_FOLDS+1)])\r\n",
        "feature_importances = pd.Series(0, index=test_X.columns)\r\n",
        "scores = []\r\n",
        "\r\n",
        "folds = KFold(NUM_FOLDS, shuffle=True, random_state=SEED)\r\n",
        "#folds = StratifiedKFold(NUM_FOLDS, shuffle=True, random_state=SEED)\r\n",
        "\r\n",
        "#folds = StratifiedKFold(NUM_FOLDS, shuffle=True, random_state=SEED)\r\n",
        "dummy_y = pd.cut(y, bins=1000, labels=range(1000))\r\n",
        "\r\n",
        "for idx, (train_idx, valid_idx) in enumerate(folds.split(X, dummy_y)):\r\n",
        "    train_X = X.iloc[train_idx]\r\n",
        "    train_y = y.iloc[train_idx]\r\n",
        "    valid_X = X.iloc[valid_idx]\r\n",
        "    valid_y = y.iloc[valid_idx]\r\n",
        "    lgbm = lgb.LGBMRegressor(**lgbm_params)\r\n",
        "    lgbm.fit(train_X,\r\n",
        "             train_y,\r\n",
        "             eval_set=[(train_X, train_y), (valid_X, valid_y)],\r\n",
        "             eval_metric=METRICS,\r\n",
        "             verbose=500\r\n",
        "    )\r\n",
        "    #ret = np.expm1(lgbm.predict(test_X))\r\n",
        "    ret = lgbm.predict(test_X)\r\n",
        "    result_df[f'fold{idx+1}'] = ret\r\n",
        "\r\n",
        "    score = lgbm.best_score_['valid_1']['rmse']\r\n",
        "    scores.append(score)\r\n",
        "\r\n",
        "    feature_importances += lgbm.feature_importances_\r\n",
        "feature_importances /= NUM_FOLDS\r\n",
        "feature_importances.sort_values(ascending=False, inplace=True)\r\n",
        "\r\n"
      ],
      "execution_count": null,
      "outputs": [
        {
          "output_type": "stream",
          "text": [
            "/usr/local/lib/python3.6/dist-packages/lightgbm/engine.py:118: UserWarning: Found `num_iterations` in params. Will use it instead of argument\n",
            "  warnings.warn(\"Found `{}` in params. Will use it instead of argument\".format(alias))\n",
            "/usr/local/lib/python3.6/dist-packages/lightgbm/engine.py:123: UserWarning: Found `early_stopping_rounds` in params. Will use it instead of argument\n",
            "  warnings.warn(\"Found `{}` in params. Will use it instead of argument\".format(alias))\n",
            "/usr/local/lib/python3.6/dist-packages/lightgbm/basic.py:741: UserWarning: categorical_feature keyword has been found in `params` and will be ignored.\n",
            "Please use categorical_feature argument of the Dataset constructor to pass this parameter.\n",
            "  .format(key))\n",
            "/usr/local/lib/python3.6/dist-packages/lightgbm/basic.py:762: UserWarning: categorical_feature in param dict is overridden.\n",
            "  warnings.warn('categorical_feature in param dict is overridden.')\n"
          ],
          "name": "stderr"
        },
        {
          "output_type": "stream",
          "text": [
            "Training until validation scores don't improve for 200 rounds.\n",
            "[500]\ttraining's rmse: 0.493219\tvalid_1's rmse: 0.502668\n",
            "[1000]\ttraining's rmse: 0.463993\tvalid_1's rmse: 0.49461\n",
            "[1500]\ttraining's rmse: 0.446432\tvalid_1's rmse: 0.49406\n",
            "Early stopping, best iteration is:\n",
            "[1371]\ttraining's rmse: 0.45044\tvalid_1's rmse: 0.493907\n",
            "Training until validation scores don't improve for 200 rounds.\n",
            "[500]\ttraining's rmse: 0.49212\tvalid_1's rmse: 0.506475\n",
            "[1000]\ttraining's rmse: 0.463945\tvalid_1's rmse: 0.498281\n",
            "[1500]\ttraining's rmse: 0.446208\tvalid_1's rmse: 0.497512\n",
            "Early stopping, best iteration is:\n",
            "[1319]\ttraining's rmse: 0.452313\tvalid_1's rmse: 0.497417\n",
            "Training until validation scores don't improve for 200 rounds.\n",
            "[500]\ttraining's rmse: 0.486531\tvalid_1's rmse: 0.524069\n",
            "[1000]\ttraining's rmse: 0.457959\tvalid_1's rmse: 0.518644\n",
            "Early stopping, best iteration is:\n",
            "[1009]\ttraining's rmse: 0.457607\tvalid_1's rmse: 0.518612\n",
            "Training until validation scores don't improve for 200 rounds.\n",
            "[500]\ttraining's rmse: 0.480832\tvalid_1's rmse: 0.543041\n",
            "[1000]\ttraining's rmse: 0.452111\tvalid_1's rmse: 0.535501\n",
            "Early stopping, best iteration is:\n",
            "[1192]\ttraining's rmse: 0.445188\tvalid_1's rmse: 0.535178\n"
          ],
          "name": "stdout"
        }
      ]
    },
    {
      "cell_type": "code",
      "metadata": {
        "colab": {
          "base_uri": "https://localhost:8080/"
        },
        "id": "4GquZEl2hifT",
        "outputId": "68fa823d-28f3-439a-bbe2-d2342231061b"
      },
      "source": [
        "print(f\"\\nSCORE : {np.mean(scores)}\")"
      ],
      "execution_count": null,
      "outputs": [
        {
          "output_type": "stream",
          "text": [
            "\n",
            "SCORE : 0.5112783249614125\n"
          ],
          "name": "stdout"
        }
      ]
    },
    {
      "cell_type": "markdown",
      "metadata": {
        "id": "cKGTcD0ChlF5"
      },
      "source": [
        "7  : CV : 525107 BOARD : 523399\r\n",
        "\r\n",
        "7b : CV : 521330 BOARD : 520950\r\n",
        "\r\n",
        "7c : CV : 511883 BOARD : 510433\r\n",
        "\r\n",
        "8(auth) : CV : 511511 BOARD : 510142\r\n"
      ]
    },
    {
      "cell_type": "code",
      "metadata": {
        "colab": {
          "base_uri": "https://localhost:8080/",
          "height": 1000
        },
        "id": "KuZ0zDdeBecB",
        "outputId": "d243f01b-4029-42a5-ff65-818eeb6b259f"
      },
      "source": [
        "fig, ax = plt.subplots(1, 1, figsize=(4, 20))\r\n",
        "feature_importances.sort_values(ascending=True).plot.barh(ax=ax)"
      ],
      "execution_count": null,
      "outputs": [
        {
          "output_type": "execute_result",
          "data": {
            "text/plain": [
              "<matplotlib.axes._subplots.AxesSubplot at 0x7f3ed42df898>"
            ]
          },
          "metadata": {
            "tags": []
          },
          "execution_count": 89
        },
        {
          "output_type": "display_data",
          "data": {
            "image/png": "[encoded data removed]",
            "text/plain": [
              "<Figure size 288x1440 with 1 Axes>"
            ]
          },
          "metadata": {
            "tags": []
          }
        }
      ]
    },
    {
      "cell_type": "code",
      "metadata": {
        "colab": {
          "base_uri": "https://localhost:8080/"
        },
        "id": "wAm2_0sLJS-U",
        "outputId": "1c816ad7-f4b9-41d5-8228-cb852ca9f6c9"
      },
      "source": [
        "result = result_df.mean(axis=1).apply(np.expm1).rename('cites')\r\n",
        "result.head()"
      ],
      "execution_count": null,
      "outputs": [
        {
          "output_type": "execute_result",
          "data": {
            "text/plain": [
              "id\n",
              "1605.00995           11.403798\n",
              "1206.6911            32.204216\n",
              "cond-mat/0504055    105.266554\n",
              "astro-ph/9907297     10.061253\n",
              "1104.5407             9.180536\n",
              "Name: cites, dtype: float64"
            ]
          },
          "metadata": {
            "tags": []
          },
          "execution_count": 62
        }
      ]
    },
    {
      "cell_type": "code",
      "metadata": {
        "colab": {
          "base_uri": "https://localhost:8080/",
          "height": 17
        },
        "id": "qAosIoA4CH_I",
        "outputId": "41e4f1ae-be7b-452c-f645-1c4efed7c286"
      },
      "source": [
        "result.to_csv(OUTPUT_FILE)\r\n",
        "files.download(OUTPUT_FILE)"
      ],
      "execution_count": null,
      "outputs": [
        {
          "output_type": "display_data",
          "data": {
            "application/javascript": [
              "\n",
              "    async function download(id, filename, size) {\n",
              "      if (!google.colab.kernel.accessAllowed) {\n",
              "        return;\n",
              "      }\n",
              "      const div = document.createElement('div');\n",
              "      const label = document.createElement('label');\n",
              "      label.textContent = `Downloading \"${filename}\": `;\n",
              "      div.appendChild(label);\n",
              "      const progress = document.createElement('progress');\n",
              "      progress.max = size;\n",
              "      div.appendChild(progress);\n",
              "      document.body.appendChild(div);\n",
              "\n",
              "      const buffers = [];\n",
              "      let downloaded = 0;\n",
              "\n",
              "      const channel = await google.colab.kernel.comms.open(id);\n",
              "      // Send a message to notify the kernel that we're ready.\n",
              "      channel.send({})\n",
              "\n",
              "      for await (const message of channel.messages) {\n",
              "        // Send a message to notify the kernel that we're ready.\n",
              "        channel.send({})\n",
              "        if (message.buffers) {\n",
              "          for (const buffer of message.buffers) {\n",
              "            buffers.push(buffer);\n",
              "            downloaded += buffer.byteLength;\n",
              "            progress.value = downloaded;\n",
              "          }\n",
              "        }\n",
              "      }\n",
              "      const blob = new Blob(buffers, {type: 'application/binary'});\n",
              "      const a = document.createElement('a');\n",
              "      a.href = window.URL.createObjectURL(blob);\n",
              "      a.download = filename;\n",
              "      div.appendChild(a);\n",
              "      a.click();\n",
              "      div.remove();\n",
              "    }\n",
              "  "
            ],
            "text/plain": [
              "<IPython.core.display.Javascript object>"
            ]
          },
          "metadata": {
            "tags": []
          }
        },
        {
          "output_type": "display_data",
          "data": {
            "application/javascript": [
              "download(\"download_eccca41c-ff22-4665-b807-66c19ab67d0d\", \"submit8.csv\", 1799163)"
            ],
            "text/plain": [
              "<IPython.core.display.Javascript object>"
            ]
          },
          "metadata": {
            "tags": []
          }
        }
      ]
    }
  ]
}